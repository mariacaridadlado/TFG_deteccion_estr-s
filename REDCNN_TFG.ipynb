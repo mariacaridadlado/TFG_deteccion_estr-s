{
  "cells": [
    {
      "cell_type": "markdown",
      "metadata": {
        "id": "bmqrSVejY3A1"
      },
      "source": [
        "##Importamos las librerias necesarias"
      ]
    },
    {
      "cell_type": "code",
      "execution_count": null,
      "metadata": {
        "id": "h5oBkR7fY1z_"
      },
      "outputs": [],
      "source": [
        "import torch\n",
        "import pandas as pd\n",
        "import numpy as np"
      ]
    },
    {
      "cell_type": "markdown",
      "metadata": {
        "id": "rcfWPO2IZJXA"
      },
      "source": [
        "##Montamos el directorio de Drive"
      ]
    },
    {
      "cell_type": "code",
      "execution_count": null,
      "metadata": {
        "colab": {
          "base_uri": "https://localhost:8080/"
        },
        "id": "SbjSkTcJZBpU",
        "outputId": "7bcd74be-f236-4596-a7f8-86e75c0ee22b"
      },
      "outputs": [
        {
          "output_type": "stream",
          "name": "stdout",
          "text": [
            "Mounted at /content/drive\n"
          ]
        }
      ],
      "source": [
        "\n",
        "\n",
        "from google.colab import drive\n",
        "drive.mount('/content/drive')"
      ]
    },
    {
      "cell_type": "markdown",
      "metadata": {
        "id": "sBaGksnqZUy1"
      },
      "source": [
        "##Cargamos los datos"
      ]
    },
    {
      "cell_type": "code",
      "execution_count": null,
      "metadata": {
        "colab": {
          "base_uri": "https://localhost:8080/",
          "height": 290
        },
        "id": "o71-vG3zZNu0",
        "outputId": "af133d84-0ed5-47a6-f9a0-683c53458beb"
      },
      "outputs": [
        {
          "data": {
            "application/vnd.google.colaboratory.intrinsic+json": {
              "type": "dataframe",
              "variable_name": "data"
            },
            "text/html": [
              "\n",
              "  <div id=\"df-61d11cc1-a30f-4b7e-8a60-977348f8b11b\" class=\"colab-df-container\">\n",
              "    <div>\n",
              "<style scoped>\n",
              "    .dataframe tbody tr th:only-of-type {\n",
              "        vertical-align: middle;\n",
              "    }\n",
              "\n",
              "    .dataframe tbody tr th {\n",
              "        vertical-align: top;\n",
              "    }\n",
              "\n",
              "    .dataframe thead th {\n",
              "        text-align: right;\n",
              "    }\n",
              "</style>\n",
              "<table border=\"1\" class=\"dataframe\">\n",
              "  <thead>\n",
              "    <tr style=\"text-align: right;\">\n",
              "      <th></th>\n",
              "      <th>Estrés</th>\n",
              "      <th>Número de ventana</th>\n",
              "      <th>0</th>\n",
              "      <th>1</th>\n",
              "      <th>2</th>\n",
              "      <th>3</th>\n",
              "      <th>4</th>\n",
              "      <th>5</th>\n",
              "      <th>6</th>\n",
              "      <th>7</th>\n",
              "      <th>...</th>\n",
              "      <th>120</th>\n",
              "      <th>121</th>\n",
              "      <th>122</th>\n",
              "      <th>123</th>\n",
              "      <th>124</th>\n",
              "      <th>125</th>\n",
              "      <th>126</th>\n",
              "      <th>127</th>\n",
              "      <th>128</th>\n",
              "      <th>id</th>\n",
              "    </tr>\n",
              "  </thead>\n",
              "  <tbody>\n",
              "    <tr>\n",
              "      <th>0</th>\n",
              "      <td>0</td>\n",
              "      <td>1</td>\n",
              "      <td>4.871090e-08</td>\n",
              "      <td>3.606089e-07</td>\n",
              "      <td>7.802952e-08</td>\n",
              "      <td>1.071230e-08</td>\n",
              "      <td>7.222428e-09</td>\n",
              "      <td>4.630749e-09</td>\n",
              "      <td>3.404109e-09</td>\n",
              "      <td>2.120386e-08</td>\n",
              "      <td>...</td>\n",
              "      <td>9.628297e-21</td>\n",
              "      <td>7.416112e-21</td>\n",
              "      <td>5.520233e-21</td>\n",
              "      <td>3.931372e-21</td>\n",
              "      <td>2.641779e-21</td>\n",
              "      <td>1.645183e-21</td>\n",
              "      <td>9.367518e-22</td>\n",
              "      <td>5.130580e-22</td>\n",
              "      <td>1.860268e-22</td>\n",
              "      <td>2</td>\n",
              "    </tr>\n",
              "    <tr>\n",
              "      <th>1</th>\n",
              "      <td>0</td>\n",
              "      <td>2</td>\n",
              "      <td>5.035470e-08</td>\n",
              "      <td>3.639258e-07</td>\n",
              "      <td>7.926840e-08</td>\n",
              "      <td>1.077047e-08</td>\n",
              "      <td>7.302463e-09</td>\n",
              "      <td>4.667696e-09</td>\n",
              "      <td>3.417535e-09</td>\n",
              "      <td>2.032165e-08</td>\n",
              "      <td>...</td>\n",
              "      <td>9.391299e-21</td>\n",
              "      <td>7.185520e-21</td>\n",
              "      <td>5.295116e-21</td>\n",
              "      <td>3.710834e-21</td>\n",
              "      <td>2.424951e-21</td>\n",
              "      <td>1.431218e-21</td>\n",
              "      <td>7.248202e-22</td>\n",
              "      <td>3.023415e-22</td>\n",
              "      <td>8.087072e-23</td>\n",
              "      <td>2</td>\n",
              "    </tr>\n",
              "    <tr>\n",
              "      <th>2</th>\n",
              "      <td>0</td>\n",
              "      <td>3</td>\n",
              "      <td>5.200627e-08</td>\n",
              "      <td>3.672679e-07</td>\n",
              "      <td>8.043292e-08</td>\n",
              "      <td>1.084760e-08</td>\n",
              "      <td>7.385750e-09</td>\n",
              "      <td>4.702984e-09</td>\n",
              "      <td>3.432810e-09</td>\n",
              "      <td>1.955137e-08</td>\n",
              "      <td>...</td>\n",
              "      <td>9.324190e-21</td>\n",
              "      <td>7.123044e-21</td>\n",
              "      <td>5.236609e-21</td>\n",
              "      <td>3.655653e-21</td>\n",
              "      <td>2.372467e-21</td>\n",
              "      <td>1.380818e-21</td>\n",
              "      <td>6.759018e-22</td>\n",
              "      <td>2.543088e-22</td>\n",
              "      <td>5.700175e-23</td>\n",
              "      <td>2</td>\n",
              "    </tr>\n",
              "    <tr>\n",
              "      <th>3</th>\n",
              "      <td>0</td>\n",
              "      <td>4</td>\n",
              "      <td>5.333217e-08</td>\n",
              "      <td>3.708592e-07</td>\n",
              "      <td>8.155923e-08</td>\n",
              "      <td>1.098427e-08</td>\n",
              "      <td>7.466229e-09</td>\n",
              "      <td>4.732911e-09</td>\n",
              "      <td>3.452876e-09</td>\n",
              "      <td>1.885116e-08</td>\n",
              "      <td>...</td>\n",
              "      <td>9.273517e-21</td>\n",
              "      <td>7.079086e-21</td>\n",
              "      <td>5.198405e-21</td>\n",
              "      <td>3.622269e-21</td>\n",
              "      <td>2.342996e-21</td>\n",
              "      <td>1.354371e-21</td>\n",
              "      <td>6.516027e-22</td>\n",
              "      <td>2.312948e-22</td>\n",
              "      <td>4.570854e-23</td>\n",
              "      <td>2</td>\n",
              "    </tr>\n",
              "    <tr>\n",
              "      <th>4</th>\n",
              "      <td>0</td>\n",
              "      <td>5</td>\n",
              "      <td>5.417517e-08</td>\n",
              "      <td>3.747936e-07</td>\n",
              "      <td>8.272961e-08</td>\n",
              "      <td>1.118039e-08</td>\n",
              "      <td>7.541849e-09</td>\n",
              "      <td>4.762701e-09</td>\n",
              "      <td>3.474362e-09</td>\n",
              "      <td>1.824839e-08</td>\n",
              "      <td>...</td>\n",
              "      <td>9.214716e-21</td>\n",
              "      <td>7.031555e-21</td>\n",
              "      <td>5.160531e-21</td>\n",
              "      <td>3.592489e-21</td>\n",
              "      <td>2.319785e-21</td>\n",
              "      <td>1.336235e-21</td>\n",
              "      <td>6.370759e-22</td>\n",
              "      <td>2.189260e-22</td>\n",
              "      <td>3.988324e-23</td>\n",
              "      <td>2</td>\n",
              "    </tr>\n",
              "  </tbody>\n",
              "</table>\n",
              "<p>5 rows × 132 columns</p>\n",
              "</div>\n",
              "    <div class=\"colab-df-buttons\">\n",
              "\n",
              "  <div class=\"colab-df-container\">\n",
              "    <button class=\"colab-df-convert\" onclick=\"convertToInteractive('df-61d11cc1-a30f-4b7e-8a60-977348f8b11b')\"\n",
              "            title=\"Convert this dataframe to an interactive table.\"\n",
              "            style=\"display:none;\">\n",
              "\n",
              "  <svg xmlns=\"http://www.w3.org/2000/svg\" height=\"24px\" viewBox=\"0 -960 960 960\">\n",
              "    <path d=\"M120-120v-720h720v720H120Zm60-500h600v-160H180v160Zm220 220h160v-160H400v160Zm0 220h160v-160H400v160ZM180-400h160v-160H180v160Zm440 0h160v-160H620v160ZM180-180h160v-160H180v160Zm440 0h160v-160H620v160Z\"/>\n",
              "  </svg>\n",
              "    </button>\n",
              "\n",
              "  <style>\n",
              "    .colab-df-container {\n",
              "      display:flex;\n",
              "      gap: 12px;\n",
              "    }\n",
              "\n",
              "    .colab-df-convert {\n",
              "      background-color: #E8F0FE;\n",
              "      border: none;\n",
              "      border-radius: 50%;\n",
              "      cursor: pointer;\n",
              "      display: none;\n",
              "      fill: #1967D2;\n",
              "      height: 32px;\n",
              "      padding: 0 0 0 0;\n",
              "      width: 32px;\n",
              "    }\n",
              "\n",
              "    .colab-df-convert:hover {\n",
              "      background-color: #E2EBFA;\n",
              "      box-shadow: 0px 1px 2px rgba(60, 64, 67, 0.3), 0px 1px 3px 1px rgba(60, 64, 67, 0.15);\n",
              "      fill: #174EA6;\n",
              "    }\n",
              "\n",
              "    .colab-df-buttons div {\n",
              "      margin-bottom: 4px;\n",
              "    }\n",
              "\n",
              "    [theme=dark] .colab-df-convert {\n",
              "      background-color: #3B4455;\n",
              "      fill: #D2E3FC;\n",
              "    }\n",
              "\n",
              "    [theme=dark] .colab-df-convert:hover {\n",
              "      background-color: #434B5C;\n",
              "      box-shadow: 0px 1px 3px 1px rgba(0, 0, 0, 0.15);\n",
              "      filter: drop-shadow(0px 1px 2px rgba(0, 0, 0, 0.3));\n",
              "      fill: #FFFFFF;\n",
              "    }\n",
              "  </style>\n",
              "\n",
              "    <script>\n",
              "      const buttonEl =\n",
              "        document.querySelector('#df-61d11cc1-a30f-4b7e-8a60-977348f8b11b button.colab-df-convert');\n",
              "      buttonEl.style.display =\n",
              "        google.colab.kernel.accessAllowed ? 'block' : 'none';\n",
              "\n",
              "      async function convertToInteractive(key) {\n",
              "        const element = document.querySelector('#df-61d11cc1-a30f-4b7e-8a60-977348f8b11b');\n",
              "        const dataTable =\n",
              "          await google.colab.kernel.invokeFunction('convertToInteractive',\n",
              "                                                    [key], {});\n",
              "        if (!dataTable) return;\n",
              "\n",
              "        const docLinkHtml = 'Like what you see? Visit the ' +\n",
              "          '<a target=\"_blank\" href=https://colab.research.google.com/notebooks/data_table.ipynb>data table notebook</a>'\n",
              "          + ' to learn more about interactive tables.';\n",
              "        element.innerHTML = '';\n",
              "        dataTable['output_type'] = 'display_data';\n",
              "        await google.colab.output.renderOutput(dataTable, element);\n",
              "        const docLink = document.createElement('div');\n",
              "        docLink.innerHTML = docLinkHtml;\n",
              "        element.appendChild(docLink);\n",
              "      }\n",
              "    </script>\n",
              "  </div>\n",
              "\n",
              "\n",
              "<div id=\"df-8386c999-bd87-4066-bd59-ecd16a9afc32\">\n",
              "  <button class=\"colab-df-quickchart\" onclick=\"quickchart('df-8386c999-bd87-4066-bd59-ecd16a9afc32')\"\n",
              "            title=\"Suggest charts\"\n",
              "            style=\"display:none;\">\n",
              "\n",
              "<svg xmlns=\"http://www.w3.org/2000/svg\" height=\"24px\"viewBox=\"0 0 24 24\"\n",
              "     width=\"24px\">\n",
              "    <g>\n",
              "        <path d=\"M19 3H5c-1.1 0-2 .9-2 2v14c0 1.1.9 2 2 2h14c1.1 0 2-.9 2-2V5c0-1.1-.9-2-2-2zM9 17H7v-7h2v7zm4 0h-2V7h2v10zm4 0h-2v-4h2v4z\"/>\n",
              "    </g>\n",
              "</svg>\n",
              "  </button>\n",
              "\n",
              "<style>\n",
              "  .colab-df-quickchart {\n",
              "      --bg-color: #E8F0FE;\n",
              "      --fill-color: #1967D2;\n",
              "      --hover-bg-color: #E2EBFA;\n",
              "      --hover-fill-color: #174EA6;\n",
              "      --disabled-fill-color: #AAA;\n",
              "      --disabled-bg-color: #DDD;\n",
              "  }\n",
              "\n",
              "  [theme=dark] .colab-df-quickchart {\n",
              "      --bg-color: #3B4455;\n",
              "      --fill-color: #D2E3FC;\n",
              "      --hover-bg-color: #434B5C;\n",
              "      --hover-fill-color: #FFFFFF;\n",
              "      --disabled-bg-color: #3B4455;\n",
              "      --disabled-fill-color: #666;\n",
              "  }\n",
              "\n",
              "  .colab-df-quickchart {\n",
              "    background-color: var(--bg-color);\n",
              "    border: none;\n",
              "    border-radius: 50%;\n",
              "    cursor: pointer;\n",
              "    display: none;\n",
              "    fill: var(--fill-color);\n",
              "    height: 32px;\n",
              "    padding: 0;\n",
              "    width: 32px;\n",
              "  }\n",
              "\n",
              "  .colab-df-quickchart:hover {\n",
              "    background-color: var(--hover-bg-color);\n",
              "    box-shadow: 0 1px 2px rgba(60, 64, 67, 0.3), 0 1px 3px 1px rgba(60, 64, 67, 0.15);\n",
              "    fill: var(--button-hover-fill-color);\n",
              "  }\n",
              "\n",
              "  .colab-df-quickchart-complete:disabled,\n",
              "  .colab-df-quickchart-complete:disabled:hover {\n",
              "    background-color: var(--disabled-bg-color);\n",
              "    fill: var(--disabled-fill-color);\n",
              "    box-shadow: none;\n",
              "  }\n",
              "\n",
              "  .colab-df-spinner {\n",
              "    border: 2px solid var(--fill-color);\n",
              "    border-color: transparent;\n",
              "    border-bottom-color: var(--fill-color);\n",
              "    animation:\n",
              "      spin 1s steps(1) infinite;\n",
              "  }\n",
              "\n",
              "  @keyframes spin {\n",
              "    0% {\n",
              "      border-color: transparent;\n",
              "      border-bottom-color: var(--fill-color);\n",
              "      border-left-color: var(--fill-color);\n",
              "    }\n",
              "    20% {\n",
              "      border-color: transparent;\n",
              "      border-left-color: var(--fill-color);\n",
              "      border-top-color: var(--fill-color);\n",
              "    }\n",
              "    30% {\n",
              "      border-color: transparent;\n",
              "      border-left-color: var(--fill-color);\n",
              "      border-top-color: var(--fill-color);\n",
              "      border-right-color: var(--fill-color);\n",
              "    }\n",
              "    40% {\n",
              "      border-color: transparent;\n",
              "      border-right-color: var(--fill-color);\n",
              "      border-top-color: var(--fill-color);\n",
              "    }\n",
              "    60% {\n",
              "      border-color: transparent;\n",
              "      border-right-color: var(--fill-color);\n",
              "    }\n",
              "    80% {\n",
              "      border-color: transparent;\n",
              "      border-right-color: var(--fill-color);\n",
              "      border-bottom-color: var(--fill-color);\n",
              "    }\n",
              "    90% {\n",
              "      border-color: transparent;\n",
              "      border-bottom-color: var(--fill-color);\n",
              "    }\n",
              "  }\n",
              "</style>\n",
              "\n",
              "  <script>\n",
              "    async function quickchart(key) {\n",
              "      const quickchartButtonEl =\n",
              "        document.querySelector('#' + key + ' button');\n",
              "      quickchartButtonEl.disabled = true;  // To prevent multiple clicks.\n",
              "      quickchartButtonEl.classList.add('colab-df-spinner');\n",
              "      try {\n",
              "        const charts = await google.colab.kernel.invokeFunction(\n",
              "            'suggestCharts', [key], {});\n",
              "      } catch (error) {\n",
              "        console.error('Error during call to suggestCharts:', error);\n",
              "      }\n",
              "      quickchartButtonEl.classList.remove('colab-df-spinner');\n",
              "      quickchartButtonEl.classList.add('colab-df-quickchart-complete');\n",
              "    }\n",
              "    (() => {\n",
              "      let quickchartButtonEl =\n",
              "        document.querySelector('#df-8386c999-bd87-4066-bd59-ecd16a9afc32 button');\n",
              "      quickchartButtonEl.style.display =\n",
              "        google.colab.kernel.accessAllowed ? 'block' : 'none';\n",
              "    })();\n",
              "  </script>\n",
              "</div>\n",
              "    </div>\n",
              "  </div>\n"
            ],
            "text/plain": [
              "   Estrés  Número de ventana             0             1             2  \\\n",
              "0       0                  1  4.871090e-08  3.606089e-07  7.802952e-08   \n",
              "1       0                  2  5.035470e-08  3.639258e-07  7.926840e-08   \n",
              "2       0                  3  5.200627e-08  3.672679e-07  8.043292e-08   \n",
              "3       0                  4  5.333217e-08  3.708592e-07  8.155923e-08   \n",
              "4       0                  5  5.417517e-08  3.747936e-07  8.272961e-08   \n",
              "\n",
              "              3             4             5             6             7  ...  \\\n",
              "0  1.071230e-08  7.222428e-09  4.630749e-09  3.404109e-09  2.120386e-08  ...   \n",
              "1  1.077047e-08  7.302463e-09  4.667696e-09  3.417535e-09  2.032165e-08  ...   \n",
              "2  1.084760e-08  7.385750e-09  4.702984e-09  3.432810e-09  1.955137e-08  ...   \n",
              "3  1.098427e-08  7.466229e-09  4.732911e-09  3.452876e-09  1.885116e-08  ...   \n",
              "4  1.118039e-08  7.541849e-09  4.762701e-09  3.474362e-09  1.824839e-08  ...   \n",
              "\n",
              "            120           121           122           123           124  \\\n",
              "0  9.628297e-21  7.416112e-21  5.520233e-21  3.931372e-21  2.641779e-21   \n",
              "1  9.391299e-21  7.185520e-21  5.295116e-21  3.710834e-21  2.424951e-21   \n",
              "2  9.324190e-21  7.123044e-21  5.236609e-21  3.655653e-21  2.372467e-21   \n",
              "3  9.273517e-21  7.079086e-21  5.198405e-21  3.622269e-21  2.342996e-21   \n",
              "4  9.214716e-21  7.031555e-21  5.160531e-21  3.592489e-21  2.319785e-21   \n",
              "\n",
              "            125           126           127           128  id  \n",
              "0  1.645183e-21  9.367518e-22  5.130580e-22  1.860268e-22   2  \n",
              "1  1.431218e-21  7.248202e-22  3.023415e-22  8.087072e-23   2  \n",
              "2  1.380818e-21  6.759018e-22  2.543088e-22  5.700175e-23   2  \n",
              "3  1.354371e-21  6.516027e-22  2.312948e-22  4.570854e-23   2  \n",
              "4  1.336235e-21  6.370759e-22  2.189260e-22  3.988324e-23   2  \n",
              "\n",
              "[5 rows x 132 columns]"
            ]
          },
          "execution_count": 59,
          "metadata": {},
          "output_type": "execute_result"
        }
      ],
      "source": [
        "data = pd.read_csv('/content/drive/MyDrive/TFG/datos_archivo2.csv')\n",
        "data.head()"
      ]
    },
    {
      "cell_type": "markdown",
      "metadata": {
        "id": "SvW4ULV5QnkH"
      },
      "source": [
        "##Dividimos el dataset en train y test"
      ]
    },
    {
      "cell_type": "code",
      "execution_count": null,
      "metadata": {
        "colab": {
          "base_uri": "https://localhost:8080/"
        },
        "collapsed": true,
        "id": "Ta0dlEF_QqSy",
        "outputId": "a73c2fb3-c316-4a7d-b45a-3132385e60ab"
      },
      "outputs": [
        {
          "name": "stdout",
          "output_type": "stream",
          "text": [
            "Conjunto de entrenamiento:\n",
            "   Estrés  Número de ventana             0             1             2  \\\n",
            "0       0                  1  4.871090e-08  3.606089e-07  7.802952e-08   \n",
            "1       0                  2  5.035470e-08  3.639258e-07  7.926840e-08   \n",
            "2       0                  3  5.200627e-08  3.672679e-07  8.043292e-08   \n",
            "3       0                  4  5.333217e-08  3.708592e-07  8.155923e-08   \n",
            "4       0                  5  5.417517e-08  3.747936e-07  8.272961e-08   \n",
            "\n",
            "              3             4             5             6             7  ...  \\\n",
            "0  1.071230e-08  7.222428e-09  4.630749e-09  3.404109e-09  2.120386e-08  ...   \n",
            "1  1.077047e-08  7.302463e-09  4.667696e-09  3.417535e-09  2.032165e-08  ...   \n",
            "2  1.084760e-08  7.385750e-09  4.702984e-09  3.432810e-09  1.955137e-08  ...   \n",
            "3  1.098427e-08  7.466229e-09  4.732911e-09  3.452876e-09  1.885116e-08  ...   \n",
            "4  1.118039e-08  7.541849e-09  4.762701e-09  3.474362e-09  1.824839e-08  ...   \n",
            "\n",
            "            120           121           122           123           124  \\\n",
            "0  9.628297e-21  7.416112e-21  5.520233e-21  3.931372e-21  2.641779e-21   \n",
            "1  9.391299e-21  7.185520e-21  5.295116e-21  3.710834e-21  2.424951e-21   \n",
            "2  9.324190e-21  7.123044e-21  5.236609e-21  3.655653e-21  2.372467e-21   \n",
            "3  9.273517e-21  7.079086e-21  5.198405e-21  3.622269e-21  2.342996e-21   \n",
            "4  9.214716e-21  7.031555e-21  5.160531e-21  3.592489e-21  2.319785e-21   \n",
            "\n",
            "            125           126           127           128  id  \n",
            "0  1.645183e-21  9.367518e-22  5.130580e-22  1.860268e-22   2  \n",
            "1  1.431218e-21  7.248202e-22  3.023415e-22  8.087072e-23   2  \n",
            "2  1.380818e-21  6.759018e-22  2.543088e-22  5.700175e-23   2  \n",
            "3  1.354371e-21  6.516027e-22  2.312948e-22  4.570854e-23   2  \n",
            "4  1.336235e-21  6.370759e-22  2.189260e-22  3.988324e-23   2  \n",
            "\n",
            "[5 rows x 132 columns]\n",
            "\n",
            "Conjunto de prueba:\n",
            "       Estrés  Número de ventana         0         1         2         3  \\\n",
            "35400       0                  1  0.000004  0.000023  0.000009  0.000005   \n",
            "35401       0                  2  0.000004  0.000023  0.000009  0.000005   \n",
            "35402       0                  3  0.000004  0.000022  0.000009  0.000004   \n",
            "35403       0                  4  0.000004  0.000022  0.000009  0.000004   \n",
            "35404       0                  5  0.000004  0.000021  0.000008  0.000004   \n",
            "\n",
            "              4         5             6         7  ...           120  \\\n",
            "35400  0.000004  0.000002  8.141657e-07  0.000002  ...  3.544001e-19   \n",
            "35401  0.000004  0.000002  8.015872e-07  0.000002  ...  3.450801e-19   \n",
            "35402  0.000004  0.000002  7.905319e-07  0.000002  ...  3.365206e-19   \n",
            "35403  0.000004  0.000002  7.790634e-07  0.000002  ...  3.304161e-19   \n",
            "35404  0.000004  0.000001  7.665259e-07  0.000002  ...  3.240556e-19   \n",
            "\n",
            "                121           122           123           124           125  \\\n",
            "35400  2.746610e-19  2.063251e-19  1.490568e-19  1.025761e-19  6.665643e-20   \n",
            "35401  2.665428e-19  1.992367e-19  1.428313e-19  9.705082e-20  6.167224e-20   \n",
            "35402  2.598682e-19  1.941774e-19  1.391256e-19  9.444374e-20  5.991411e-20   \n",
            "35403  2.551149e-19  1.905819e-19  1.365005e-19  9.260621e-20  5.868524e-20   \n",
            "35404  2.502094e-19  1.869234e-19  1.338871e-19  9.084101e-20  5.757552e-20   \n",
            "\n",
            "                126           127           128  id  \n",
            "35400  4.112319e-20  2.585254e-20  1.038526e-20   7  \n",
            "35401  3.652361e-20  2.148298e-20  8.238759e-21   7  \n",
            "35402  3.536894e-20  2.068922e-20  7.901929e-21   7  \n",
            "35403  3.457273e-20  2.015177e-20  7.676264e-21   7  \n",
            "35404  3.392896e-20  1.978667e-20  7.540085e-21   7  \n",
            "\n",
            "[5 rows x 132 columns]\n"
          ]
        }
      ],
      "source": [
        "# Dividir el conjunto de datos en conjunto de entrenamiento y conjunto de prueba\n",
        "train_data = data[data['id'] !=7]\n",
        "test_data = data[data['id'] ==7]\n",
        "\n",
        "# Visualizar las primeras filas de cada conjunto de datos para verificar\n",
        "print(\"Conjunto de entrenamiento:\")\n",
        "print(train_data.head())\n",
        "\n",
        "print(\"\\nConjunto de prueba:\")\n",
        "print(test_data.head())"
      ]
    },
    {
      "cell_type": "markdown",
      "metadata": {
        "id": "lSdrorzGBMVb"
      },
      "source": [
        "##Quitamos un sujeto del de train y lo ponemos en test (3, lo dejamos para test)"
      ]
    },
    {
      "cell_type": "code",
      "execution_count": null,
      "metadata": {
        "colab": {
          "base_uri": "https://localhost:8080/"
        },
        "collapsed": true,
        "id": "OiWXAJUvBLtW",
        "outputId": "ef6553c5-fdff-4721-e0d4-5d0ec94efb09"
      },
      "outputs": [
        {
          "name": "stdout",
          "output_type": "stream",
          "text": [
            "Conjunto de entrenamiento:\n",
            "       Estrés  Número de ventana             0             1             2  \\\n",
            "21240       0                  1  2.583975e-08  1.461232e-07  4.293823e-08   \n",
            "21241       0                  2  2.450313e-08  1.399524e-07  4.054284e-08   \n",
            "21242       0                  3  2.399148e-08  1.343983e-07  3.879583e-08   \n",
            "21243       0                  4  2.410430e-08  1.300703e-07  3.767510e-08   \n",
            "21244       0                  5  2.430827e-08  1.272426e-07  3.714807e-08   \n",
            "\n",
            "                  3             4             5             6             7  \\\n",
            "21240  1.827938e-08  2.088540e-08  1.725070e-08  2.038891e-08  2.242479e-08   \n",
            "21241  1.814534e-08  1.951526e-08  1.546373e-08  1.863781e-08  2.176561e-08   \n",
            "21242  1.812384e-08  1.858227e-08  1.441681e-08  1.744124e-08  2.123826e-08   \n",
            "21243  1.803017e-08  1.801575e-08  1.390894e-08  1.673585e-08  2.082198e-08   \n",
            "21244  1.776930e-08  1.770953e-08  1.371423e-08  1.636517e-08  2.051436e-08   \n",
            "\n",
            "       ...           120           121           122           123  \\\n",
            "21240  ...  2.635856e-21  2.043103e-21  1.535121e-21  1.109413e-21   \n",
            "21241  ...  2.543839e-21  1.969134e-21  1.476616e-21  1.063866e-21   \n",
            "21242  ...  2.545392e-21  1.969250e-21  1.475501e-21  1.061720e-21   \n",
            "21243  ...  2.540538e-21  1.964823e-21  1.471440e-21  1.057966e-21   \n",
            "21244  ...  2.549057e-21  1.970693e-21  1.475038e-21  1.059660e-21   \n",
            "\n",
            "                124           125           126           127           128  \\\n",
            "21240  7.638978e-22  4.968889e-22  3.070882e-22  1.935744e-22  7.789876e-23   \n",
            "21241  7.288656e-22  4.699822e-22  2.859570e-22  1.758972e-22  6.963488e-23   \n",
            "21242  7.258835e-22  4.663538e-22  2.818692e-22  1.715348e-22  6.740797e-23   \n",
            "21243  7.223773e-22  4.630394e-22  2.786911e-22  1.684381e-22  6.587317e-23   \n",
            "21244  7.225265e-22  4.619942e-22  2.767969e-22  1.660361e-22  6.458769e-23   \n",
            "\n",
            "       id  \n",
            "21240   5  \n",
            "21241   5  \n",
            "21242   5  \n",
            "21243   5  \n",
            "21244   5  \n",
            "\n",
            "[5 rows x 132 columns]\n"
          ]
        }
      ],
      "source": [
        "val_data = train_data[train_data['id'] == 5]\n",
        "train_data = train_data[train_data['id'] != 5]\n",
        "\n",
        "# Visualizar las primeras filas de cada conjunto de datos para verificar\n",
        "print(\"Conjunto de entrenamiento:\")\n",
        "print(val_data.head())\n",
        "\n",
        "#print(\"\\nConjunto de validacion:\")\n",
        "#print(val_data.head())\n"
      ]
    },
    {
      "cell_type": "markdown",
      "metadata": {
        "id": "p6rGWELpIr0N"
      },
      "source": [
        "##Creacion del dataset en la clase de pytorch\n",
        "\n"
      ]
    },
    {
      "cell_type": "code",
      "execution_count": null,
      "metadata": {
        "id": "AHiGWgMsKJxM"
      },
      "outputs": [],
      "source": [
        "\n",
        "from torch.utils.data import Dataset, DataLoader\n",
        "\n",
        "class miDataset(Dataset):\n",
        "  def __init__(self, data):\n",
        "\n",
        "    self.train_data = torch.from_numpy(data.iloc[:,2:-1].values)\n",
        "    self.train_labels = torch.from_numpy(data['Estrés'].values).float()\n",
        "    self.n_samples= self.train_data.shape[0]\n",
        "\n",
        "  def __len__(self):\n",
        "    return self.n_samples\n",
        "\n",
        "  def __getitem__(self, idx): #nos va a devolver el objeto en la posicion de idx\n",
        "    return self.train_data[idx], self.train_labels[idx]\n",
        "\n"
      ]
    },
    {
      "cell_type": "code",
      "execution_count": null,
      "metadata": {
        "id": "zyI-oOC7IrIJ"
      },
      "outputs": [],
      "source": [
        "train_dataset=miDataset(train_data)\n",
        "test_dataset=miDataset(test_data)\n",
        "#val_dataset=miDataset(val_data)"
      ]
    },
    {
      "cell_type": "code",
      "execution_count": null,
      "metadata": {
        "colab": {
          "base_uri": "https://localhost:8080/"
        },
        "collapsed": true,
        "id": "TPP7PVmUTSC5",
        "outputId": "2f0392b5-ece7-408b-b691-beea0e600e60"
      },
      "outputs": [
        {
          "name": "stdout",
          "output_type": "stream",
          "text": [
            "(tensor([4.3477e-06, 2.3017e-05, 9.3336e-06, 4.6745e-06, 4.2235e-06, 1.6145e-06,\n",
            "        8.1417e-07, 1.6245e-06, 1.2736e-06, 1.2644e-07, 8.4153e-10, 9.7467e-11,\n",
            "        2.3187e-11, 8.1376e-12, 3.6230e-12, 1.8798e-12, 1.0807e-12, 6.6743e-13,\n",
            "        4.3439e-13, 2.9422e-13, 2.0566e-13, 1.4749e-13, 1.0806e-13, 8.0625e-14,\n",
            "        6.1115e-14, 4.6974e-14, 3.6553e-14, 2.8760e-14, 2.2855e-14, 1.8329e-14,\n",
            "        1.4822e-14, 1.2079e-14, 9.9125e-15, 8.1883e-15, 6.8054e-15, 5.6883e-15,\n",
            "        4.7799e-15, 4.0367e-15, 3.4250e-15, 2.9189e-15, 2.4979e-15, 2.1461e-15,\n",
            "        1.8506e-15, 1.6015e-15, 1.3906e-15, 1.2112e-15, 1.0582e-15, 9.2717e-16,\n",
            "        8.1459e-16, 7.1753e-16, 6.3361e-16, 5.6083e-16, 4.9754e-16, 4.4234e-16,\n",
            "        3.9407e-16, 3.5176e-16, 3.1459e-16, 2.8185e-16, 2.5295e-16, 2.2739e-16,\n",
            "        2.0473e-16, 1.8461e-16, 1.6670e-16, 1.5073e-16, 1.3647e-16, 1.2372e-16,\n",
            "        1.1228e-16, 1.0202e-16, 9.2795e-17, 8.4489e-17, 7.6999e-17, 7.0235e-17,\n",
            "        6.4120e-17, 5.8583e-17, 5.3563e-17, 4.9007e-17, 4.4866e-17, 4.1098e-17,\n",
            "        3.7667e-17, 3.4537e-17, 3.1681e-17, 2.9071e-17, 2.6684e-17, 2.4498e-17,\n",
            "        2.2495e-17, 2.0658e-17, 1.8972e-17, 1.7423e-17, 1.5999e-17, 1.4689e-17,\n",
            "        1.3482e-17, 1.2371e-17, 1.1346e-17, 1.0401e-17, 9.5284e-18, 8.7228e-18,\n",
            "        7.9786e-18, 7.2908e-18, 6.6549e-18, 6.0669e-18, 5.5230e-18, 5.0199e-18,\n",
            "        4.5545e-18, 4.1239e-18, 3.7257e-18, 3.3575e-18, 3.0172e-18, 2.7028e-18,\n",
            "        2.4127e-18, 2.1451e-18, 1.8986e-18, 1.6718e-18, 1.4637e-18, 1.2730e-18,\n",
            "        1.0988e-18, 9.4010e-19, 7.9618e-19, 6.6628e-19, 5.4972e-19, 4.4594e-19,\n",
            "        3.5440e-19, 2.7466e-19, 2.0633e-19, 1.4906e-19, 1.0258e-19, 6.6656e-20,\n",
            "        4.1123e-20, 2.5853e-20, 1.0385e-20], dtype=torch.float64), tensor(0.))\n"
          ]
        }
      ],
      "source": [
        "primera=test_dataset[0]\n",
        "print(primera)"
      ]
    },
    {
      "cell_type": "code",
      "execution_count": null,
      "metadata": {
        "colab": {
          "base_uri": "https://localhost:8080/"
        },
        "collapsed": true,
        "id": "18KWvvCkP7VG",
        "outputId": "75a80489-f7eb-47ec-c733-b66dc5ce5a4b"
      },
      "outputs": [
        {
          "name": "stdout",
          "output_type": "stream",
          "text": [
            "features:  tensor([4.3477e-06, 2.3017e-05, 9.3336e-06, 4.6745e-06, 4.2235e-06, 1.6145e-06,\n",
            "        8.1417e-07, 1.6245e-06, 1.2736e-06, 1.2644e-07, 8.4153e-10, 9.7467e-11,\n",
            "        2.3187e-11, 8.1376e-12, 3.6230e-12, 1.8798e-12, 1.0807e-12, 6.6743e-13,\n",
            "        4.3439e-13, 2.9422e-13, 2.0566e-13, 1.4749e-13, 1.0806e-13, 8.0625e-14,\n",
            "        6.1115e-14, 4.6974e-14, 3.6553e-14, 2.8760e-14, 2.2855e-14, 1.8329e-14,\n",
            "        1.4822e-14, 1.2079e-14, 9.9125e-15, 8.1883e-15, 6.8054e-15, 5.6883e-15,\n",
            "        4.7799e-15, 4.0367e-15, 3.4250e-15, 2.9189e-15, 2.4979e-15, 2.1461e-15,\n",
            "        1.8506e-15, 1.6015e-15, 1.3906e-15, 1.2112e-15, 1.0582e-15, 9.2717e-16,\n",
            "        8.1459e-16, 7.1753e-16, 6.3361e-16, 5.6083e-16, 4.9754e-16, 4.4234e-16,\n",
            "        3.9407e-16, 3.5176e-16, 3.1459e-16, 2.8185e-16, 2.5295e-16, 2.2739e-16,\n",
            "        2.0473e-16, 1.8461e-16, 1.6670e-16, 1.5073e-16, 1.3647e-16, 1.2372e-16,\n",
            "        1.1228e-16, 1.0202e-16, 9.2795e-17, 8.4489e-17, 7.6999e-17, 7.0235e-17,\n",
            "        6.4120e-17, 5.8583e-17, 5.3563e-17, 4.9007e-17, 4.4866e-17, 4.1098e-17,\n",
            "        3.7667e-17, 3.4537e-17, 3.1681e-17, 2.9071e-17, 2.6684e-17, 2.4498e-17,\n",
            "        2.2495e-17, 2.0658e-17, 1.8972e-17, 1.7423e-17, 1.5999e-17, 1.4689e-17,\n",
            "        1.3482e-17, 1.2371e-17, 1.1346e-17, 1.0401e-17, 9.5284e-18, 8.7228e-18,\n",
            "        7.9786e-18, 7.2908e-18, 6.6549e-18, 6.0669e-18, 5.5230e-18, 5.0199e-18,\n",
            "        4.5545e-18, 4.1239e-18, 3.7257e-18, 3.3575e-18, 3.0172e-18, 2.7028e-18,\n",
            "        2.4127e-18, 2.1451e-18, 1.8986e-18, 1.6718e-18, 1.4637e-18, 1.2730e-18,\n",
            "        1.0988e-18, 9.4010e-19, 7.9618e-19, 6.6628e-19, 5.4972e-19, 4.4594e-19,\n",
            "        3.5440e-19, 2.7466e-19, 2.0633e-19, 1.4906e-19, 1.0258e-19, 6.6656e-20,\n",
            "        4.1123e-20, 2.5853e-20, 1.0385e-20], dtype=torch.float64)\n",
            "labels:  tensor(0.)\n"
          ]
        }
      ],
      "source": [
        "features,labels= primera\n",
        "print(\"features: \", features)\n",
        "print(\"labels: \", labels)"
      ]
    },
    {
      "cell_type": "code",
      "execution_count": null,
      "metadata": {
        "colab": {
          "base_uri": "https://localhost:8080/"
        },
        "id": "Cf2KCslI5s7y",
        "outputId": "dd5d2611-e64a-41e0-bb12-79c1bce8bbf7"
      },
      "outputs": [
        {
          "name": "stdout",
          "output_type": "stream",
          "text": [
            "99600\n"
          ]
        }
      ],
      "source": [
        "print(len(train_dataset))"
      ]
    },
    {
      "cell_type": "markdown",
      "metadata": {
        "id": "m6E6lEG7RBXX"
      },
      "source": [
        "##Generamos el dataloader con batch =40"
      ]
    },
    {
      "cell_type": "code",
      "execution_count": null,
      "metadata": {
        "id": "ybVd6abqRFaQ"
      },
      "outputs": [],
      "source": [
        "trainloader= DataLoader(dataset=train_dataset, batch_size=40, shuffle=False, drop_last=True)"
      ]
    },
    {
      "cell_type": "code",
      "execution_count": null,
      "metadata": {
        "colab": {
          "base_uri": "https://localhost:8080/"
        },
        "collapsed": true,
        "id": "1Q0yr9ijRd5X",
        "outputId": "d781a4ba-f587-4e2e-b6a4-2f6d1a8bbd85"
      },
      "outputs": [
        {
          "name": "stdout",
          "output_type": "stream",
          "text": [
            "torch.Size([40, 129])\n",
            "torch.Size([40])\n"
          ]
        }
      ],
      "source": [
        "data_batch, labels_batch = next(iter(trainloader))\n",
        "print(data_batch.size())\n",
        "#[16,129]--> son 16 conjuntos de 129 datos cadauno (1 canal)\n",
        "print(labels_batch.size())\n",
        "#[16]--> son 16 conjuntos de datos de 1 dato cada uno"
      ]
    },
    {
      "cell_type": "markdown",
      "metadata": {
        "id": "LdOtVgs2TZGP"
      },
      "source": [
        "##lo mismo para el test"
      ]
    },
    {
      "cell_type": "code",
      "execution_count": null,
      "metadata": {
        "id": "FxFO4yLoTcdC"
      },
      "outputs": [],
      "source": [
        "testloader=DataLoader(test_dataset, batch_size=40, shuffle=False, drop_last=True)"
      ]
    },
    {
      "cell_type": "code",
      "execution_count": null,
      "metadata": {
        "colab": {
          "base_uri": "https://localhost:8080/"
        },
        "collapsed": true,
        "id": "3Ppk9PK6Tn_0",
        "outputId": "00fd1540-4659-47ad-cca9-c826c8934df1"
      },
      "outputs": [
        {
          "name": "stdout",
          "output_type": "stream",
          "text": [
            "torch.Size([40, 129])\n",
            "torch.Size([40])\n"
          ]
        }
      ],
      "source": [
        "data_batch, labels_batch = next(iter(testloader))\n",
        "print(data_batch.size())\n",
        "#[16,129]--> son 16 conjuntos de 129 datos cadauno (1 canal)\n",
        "print(labels_batch.size())\n",
        "#[16]--> son 16 conjuntos de datos de 1 dato cada uno"
      ]
    },
    {
      "cell_type": "markdown",
      "metadata": {
        "id": "JuEamUo0CIN5"
      },
      "source": [
        "##Lo mismo para el de validación"
      ]
    },
    {
      "cell_type": "code",
      "execution_count": null,
      "metadata": {
        "id": "i8CPd3gPCMiM"
      },
      "outputs": [],
      "source": [
        "valloader=DataLoader(val_dataset, batch_size=40, shuffle=False)"
      ]
    },
    {
      "cell_type": "code",
      "execution_count": null,
      "metadata": {
        "colab": {
          "base_uri": "https://localhost:8080/"
        },
        "collapsed": true,
        "id": "AJc3xtazCQ2p",
        "outputId": "c7f48111-95cb-4723-f91e-d701f3e7d475"
      },
      "outputs": [
        {
          "name": "stdout",
          "output_type": "stream",
          "text": [
            "torch.Size([40, 129])\n",
            "torch.Size([40])\n"
          ]
        }
      ],
      "source": [
        "data_batch, labels_batch = next(iter(valloader))\n",
        "print(data_batch.size())\n",
        "#[16,129]--> son 16 conjuntos de 129 datos cadauno (1 canal)\n",
        "print(labels_batch.size())\n",
        "#[16]--> son 16 conjuntos de datos de 1 dato cada uno"
      ]
    },
    {
      "cell_type": "markdown",
      "metadata": {
        "id": "hlh-JGN3mnAJ"
      },
      "source": [
        "##Definimomos la red neuronal CONVOLUCIONAL\n"
      ]
    },
    {
      "cell_type": "code",
      "execution_count": null,
      "metadata": {
        "id": "1BlQWCsSonEe"
      },
      "outputs": [],
      "source": [
        "import torch.nn as nn\n",
        "import torch.nn.functional as F"
      ]
    },
    {
      "cell_type": "code",
      "execution_count": null,
      "metadata": {
        "id": "E8pDAJBe0AX5"
      },
      "outputs": [],
      "source": [
        "\n",
        "#creacion del modelo\n",
        "class Net(nn.Module,):\n",
        "    def __init__(self):\n",
        "        super(Net, self).__init__()\n",
        "        self.fc1=nn.Conv1d(in_channels=40, out_channels=6, kernel_size=10)\n",
        "        self.fc2=nn.Conv1d(in_channels=6, out_channels=8, kernel_size=3)\n",
        "        self.fc3=nn.Conv1d(in_channels=8, out_channels=10, kernel_size=1)\n",
        "        self.fc4=nn.Conv1d(in_channels=10, out_channels=40, kernel_size=1)\n",
        "        #3 capas totalmente conectadas\n",
        "        self.fc5=nn.Linear(2, 120)\n",
        "        self.fc6=nn.Linear(120, 60)\n",
        "        self.fc7=nn.Linear(60, 1)\n",
        "\n",
        "    def forward(self, x):\n",
        "        #print (\"DIMENIONES:\")\n",
        "        #print(\"Entrada: \", x.shape)\n",
        "        #a la 1º capa le aplicamos la funcion relu y hacemos un max pooling de 5 y un dropout de 0.5\n",
        "        x= F.max_pool1d(F.relu(self.fc1(x)), 5)\n",
        "        x= F.dropout(x, 0.5)\n",
        "        #print(\"conv1: \", x.shape)\n",
        "        #a la 2º capa le aplicamos la funcion relu y hacemos un max pooling de 2 y un dropout de 0.5\n",
        "        x= F.max_pool1d(F.relu(self.fc2(x)), 2)\n",
        "        x= F.dropout(x, 0.5)\n",
        "        #print(\"conv2: \", x.shape)\n",
        "        #a la 3º capa le aplicamos la funcion relu y hacemos un average pooling de 2 y un dropout de 0.5\n",
        "        x= F.max_pool1d(F.relu(self.fc3(x)), 2)\n",
        "        x= F.dropout(x, 0.5)\n",
        "        #print(\"conv3: \", x.shape)\n",
        "        x= F.avg_pool1d(F.relu(self.fc4(x)),2)\n",
        "        x= F.dropout(x, 0.5)\n",
        "        #print(\"conv4: \", x.shape)\n",
        "        #aplicamos la funcion relu a la 4º capa y un dropout de 0.5\n",
        "        x = x.view(x.shape[0], -1)\n",
        "        #print(\"pre fc: \", x.shape)\n",
        "        x= F.sigmoid(self.fc5(x))\n",
        "        x= F.dropout(x, 0.5)\n",
        "        #aplicamos la funcion relu a la 5º capa y un dropout de 0.5\n",
        "        x= F.relu(self.fc6(x))\n",
        "        x= F.dropout(x, 0.5)\n",
        "        #la salida es la salida linear de la capa\n",
        "        x=self.fc7(x)\n",
        "        #print(\"Salida: \", x.shape)\n",
        "        return(x)\n"
      ]
    },
    {
      "cell_type": "code",
      "execution_count": null,
      "metadata": {
        "id": "AHL7frXzVlXu"
      },
      "outputs": [],
      "source": [
        "\n",
        "device = 'cpu'\n",
        "#modelo =Net().to(device=device)\n",
        "modeloV30 =Net().to(device=device)"
      ]
    },
    {
      "cell_type": "markdown",
      "metadata": {
        "id": "Z8nbu5TkUlc8"
      },
      "source": [
        "##Asignamos optimizador y criterio de pérdida"
      ]
    },
    {
      "cell_type": "code",
      "execution_count": null,
      "metadata": {
        "colab": {
          "base_uri": "https://localhost:8080/",
          "height": 196
        },
        "collapsed": true,
        "id": "-B0wz5rxUkqi",
        "outputId": "29d92fb1-fc29-4e30-c562-85c77db20f45"
      },
      "outputs": [
        {
          "ename": "NameError",
          "evalue": "name 'modeloV30AMIGOS' is not defined",
          "output_type": "error",
          "traceback": [
            "\u001b[0;31m---------------------------------------------------------------------------\u001b[0m",
            "\u001b[0;31mNameError\u001b[0m                                 Traceback (most recent call last)",
            "\u001b[0;32m<ipython-input-8-0269a2dcb796>\u001b[0m in \u001b[0;36m<cell line: 5>\u001b[0;34m()\u001b[0m\n\u001b[1;32m      3\u001b[0m \u001b[0mcriterion\u001b[0m \u001b[0;34m=\u001b[0m \u001b[0mtorch\u001b[0m\u001b[0;34m.\u001b[0m\u001b[0mnn\u001b[0m\u001b[0;34m.\u001b[0m\u001b[0mBCELoss\u001b[0m\u001b[0;34m(\u001b[0m\u001b[0;34m)\u001b[0m \u001b[0;31m#cambiar a rmspropo\u001b[0m\u001b[0;34m\u001b[0m\u001b[0;34m\u001b[0m\u001b[0m\n\u001b[1;32m      4\u001b[0m \u001b[0;31m#optimizer = optim.SGD(model.parameters(), lr=0.001,momentum=0.9)\u001b[0m\u001b[0;34m\u001b[0m\u001b[0;34m\u001b[0m\u001b[0m\n\u001b[0;32m----> 5\u001b[0;31m \u001b[0moptimizer\u001b[0m \u001b[0;34m=\u001b[0m \u001b[0moptim\u001b[0m\u001b[0;34m.\u001b[0m\u001b[0mRMSprop\u001b[0m\u001b[0;34m(\u001b[0m\u001b[0mmodeloV30AMIGOS\u001b[0m\u001b[0;34m.\u001b[0m\u001b[0mparameters\u001b[0m\u001b[0;34m(\u001b[0m\u001b[0;34m)\u001b[0m\u001b[0;34m,\u001b[0m \u001b[0mlr\u001b[0m\u001b[0;34m=\u001b[0m\u001b[0;36m0.001\u001b[0m\u001b[0;34m)\u001b[0m\u001b[0;34m\u001b[0m\u001b[0;34m\u001b[0m\u001b[0m\n\u001b[0m",
            "\u001b[0;31mNameError\u001b[0m: name 'modeloV30AMIGOS' is not defined"
          ]
        }
      ],
      "source": [
        "\n",
        "from torch import optim\n",
        "from torch import nn\n",
        "criterion = torch.nn.BCELoss() #cambiar a rmspropo\n",
        "#optimizer = optim.SGD(model.parameters(), lr=0.001,momentum=0.9)\n",
        "optimizer = optim.RMSprop(modeloV30AMIGOS.parameters(), lr=0.001)"
      ]
    },
    {
      "cell_type": "markdown",
      "metadata": {
        "id": "BQaPyymqoqLa"
      },
      "source": [
        "##Bucle de entrenamiento"
      ]
    },
    {
      "cell_type": "code",
      "execution_count": null,
      "metadata": {
        "colab": {
          "base_uri": "https://localhost:8080/"
        },
        "collapsed": true,
        "id": "q9PBSbvb0sS2",
        "outputId": "31c1e1bc-23a2-48cb-c68b-fcfc2ffe9a3e"
      },
      "outputs": [
        {
          "name": "stdout",
          "output_type": "stream",
          "text": [
            "\n",
            " Epoch: 0 Train Acc: 0.7006\n",
            "Epoch: 0 Train Loss: 0.5366353713811147 \n",
            "\n",
            " Epoch: 1 Train Acc: 0.6991\n",
            "Epoch: 1 Train Loss: 0.53622611858969 \n",
            "\n",
            " Epoch: 2 Train Acc: 0.6995\n",
            "Epoch: 2 Train Loss: 0.5324816421157843 \n",
            "\n",
            " Epoch: 3 Train Acc: 0.6982\n",
            "Epoch: 3 Train Loss: 0.5366162150079932 \n",
            "\n",
            " Epoch: 4 Train Acc: 0.6970\n",
            "Epoch: 4 Train Loss: 0.5379360452287023 \n",
            "\n",
            " Epoch: 5 Train Acc: 0.6971\n",
            "Epoch: 5 Train Loss: 0.5371439850604347 \n",
            "\n",
            " Epoch: 6 Train Acc: 0.6948\n",
            "Epoch: 6 Train Loss: 0.5395769721946534 \n",
            "\n",
            " Epoch: 7 Train Acc: 0.6951\n",
            "Epoch: 7 Train Loss: 0.5411315990782242 \n",
            "\n",
            " Epoch: 8 Train Acc: 0.6965\n",
            "Epoch: 8 Train Loss: 0.5408379798434536 \n",
            "\n",
            " Epoch: 9 Train Acc: 0.6954\n",
            "Epoch: 9 Train Loss: 0.5407844194070955 \n"
          ]
        }
      ],
      "source": [
        "N_EPOCHS = 10\n",
        "for epoch in range(N_EPOCHS):\n",
        "\n",
        "  train_loss = 0.0\n",
        "  train_correct = 0\n",
        "  train_total = 0\n",
        "  modelo1AMIGOS.train()#indicamos que esta entrenando y que puede modificar pesor\n",
        "  for inputs, labels in trainloader:\n",
        "    inputs = inputs.to(device)\n",
        "    labels = labels.to(device)\n",
        "\n",
        "    optimizer.zero_grad()\n",
        "\n",
        "    outputs = modelo1AMIGOS(inputs.float())\n",
        "    outputs = torch.sigmoid(outputs)\n",
        "    outputs=outputs.squeeze()\n",
        "    loss = criterion(outputs, labels)\n",
        "    loss.backward()\n",
        "    optimizer.step()\n",
        "\n",
        "    train_loss += loss.item()\n",
        "\n",
        "    # Calcular el accuracy\n",
        "    predicted = torch.round(outputs)\n",
        "    train_total += labels.size(0)\n",
        "    train_correct += (predicted == labels).sum().item()\n",
        "\n",
        "  train_accuracy = train_correct / train_total\n",
        "  print(\"\\n Epoch: {} Train Acc: {:.4f}\".format(epoch, train_accuracy))\n",
        "  print( \"Epoch: {} Train Loss: {} \".format( epoch, train_loss/len(trainloader)))"
      ]
    },
    {
      "cell_type": "markdown",
      "metadata": {
        "id": "hsxNqMBpkiqd"
      },
      "source": [
        "##Calculo de la media de las accurancy"
      ]
    },
    {
      "cell_type": "code",
      "execution_count": null,
      "metadata": {
        "colab": {
          "base_uri": "https://localhost:8080/"
        },
        "collapsed": true,
        "id": "CBnOokeKkpPe",
        "outputId": "3de54843-15f5-433c-ca64-b997c7eafff8"
      },
      "outputs": [
        {
          "name": "stdout",
          "output_type": "stream",
          "text": [
            "La media de los resultados, utilizando el dataset WESAD es: 0.8816266666666667\n",
            "La media de los resultados, utilizando el dataset AMIGOS es: 0.7230933333333334\n"
          ]
        }
      ],
      "source": [
        "# Resultados de leave one subject out -cross validation\n",
        "resultados = [0.9499, 0.9387, 0.9413, 0.9426, 0.9413, 0.9318, 0.9186, 0.8636, 0.7957, 0.8097, 0.8287, 0.8375, 0.8403, 0.8422, 0.8425]\n",
        "resultadosAMIGOS=[0.7743, 0.7019, 0.7382,0.7371, 0.7293, 0.7024, 0.7049,0.7320,0.7206,0.7068, 0.727, 0.7203,0.7213, 0.7301, 0.7002]\n",
        "# Calcular la media de los resultados\n",
        "media_resultados = sum(resultados) / len(resultados)\n",
        "media_resultados2 = sum(resultadosAMIGOS) / len(resultadosAMIGOS)\n",
        "\n",
        "print(\"La media de los resultados, utilizando el dataset WESAD es:\", media_resultados)\n",
        "\n",
        "print(\"La media de los resultados, utilizando el dataset AMIGOS es:\", media_resultados2)\n"
      ]
    },
    {
      "cell_type": "markdown",
      "metadata": {
        "id": "VHNzhKwukw4E"
      },
      "source": [
        "##PRECISIÓN WESAD=  0.8816266666666667\n",
        "##PRECISIÓN AMIGOS= 0.7230933333333334\n"
      ]
    },
    {
      "cell_type": "markdown",
      "metadata": {
        "id": "kHQm5IakjSTZ"
      },
      "source": [
        "##Almacenamiento del modelo"
      ]
    },
    {
      "cell_type": "code",
      "execution_count": null,
      "metadata": {
        "colab": {
          "base_uri": "https://localhost:8080/",
          "height": 161
        },
        "collapsed": true,
        "id": "WAL-bbcZjQae",
        "outputId": "9bfa62e8-ef92-4fcc-e87f-d9b96ffc2ba3"
      },
      "outputs": [
        {
          "ename": "NameError",
          "evalue": "name 'modelo' is not defined",
          "output_type": "error",
          "traceback": [
            "\u001b[0;31m---------------------------------------------------------------------------\u001b[0m",
            "\u001b[0;31mNameError\u001b[0m                                 Traceback (most recent call last)",
            "\u001b[0;32m<ipython-input-16-3351bcf2e64a>\u001b[0m in \u001b[0;36m<cell line: 2>\u001b[0;34m()\u001b[0m\n\u001b[1;32m      1\u001b[0m \u001b[0mruta\u001b[0m \u001b[0;34m=\u001b[0m \u001b[0;34m\"/content/drive/MyDrive/TFG/modelo_entrenado.pth\"\u001b[0m\u001b[0;34m\u001b[0m\u001b[0;34m\u001b[0m\u001b[0m\n\u001b[0;32m----> 2\u001b[0;31m \u001b[0mtorch\u001b[0m\u001b[0;34m.\u001b[0m\u001b[0msave\u001b[0m\u001b[0;34m(\u001b[0m\u001b[0mmodelo\u001b[0m\u001b[0;34m.\u001b[0m\u001b[0mstate_dict\u001b[0m\u001b[0;34m(\u001b[0m\u001b[0;34m)\u001b[0m\u001b[0;34m,\u001b[0m \u001b[0mruta\u001b[0m\u001b[0;34m)\u001b[0m\u001b[0;34m\u001b[0m\u001b[0;34m\u001b[0m\u001b[0m\n\u001b[0m",
            "\u001b[0;31mNameError\u001b[0m: name 'modelo' is not defined"
          ]
        }
      ],
      "source": [
        "ruta = \"/content/drive/MyDrive/TFG/modelo_entrenado.pth\"\n",
        "torch.save(modelo.state_dict(), ruta)"
      ]
    },
    {
      "cell_type": "code",
      "execution_count": null,
      "metadata": {
        "id": "ubK8Jaq-y-s9"
      },
      "outputs": [],
      "source": [
        "ruta = \"/content/drive/MyDrive/TFG/modelo_entrenado1AMIGOS.pth\"\n",
        "torch.save(modelo1AMIGOS.state_dict(), ruta)"
      ]
    },
    {
      "cell_type": "markdown",
      "metadata": {
        "id": "KXz8i4uDj8IA"
      },
      "source": [
        "##Carga del modelo entrenado"
      ]
    },
    {
      "cell_type": "code",
      "execution_count": null,
      "metadata": {
        "id": "ZEzexa2-j_oy"
      },
      "outputs": [],
      "source": [
        "\n",
        "# Cargar el estado del modelo desde la ruta especificada\n",
        "#ruta_archivo = '/content/drive/MyDrive/TFG/modelo_entrenado.pth'\n",
        "#modelo.load_state_dict(torch.load(ruta_archivo))"
      ]
    },
    {
      "cell_type": "markdown",
      "metadata": {
        "id": "zbxoOaZJlVh7"
      },
      "source": [
        "##RED NEURONAL AÑADIENDO LSTM"
      ]
    },
    {
      "cell_type": "code",
      "execution_count": null,
      "metadata": {
        "id": "jtP2d9KflY4X"
      },
      "outputs": [],
      "source": [
        "#creacion del modelo\n",
        "class Net(nn.Module,):\n",
        "    def __init__(self):\n",
        "        super(Net, self).__init__()\n",
        "        self.fc1=nn.Conv1d(in_channels=40, out_channels=6, kernel_size=10)\n",
        "        self.fc2=nn.Conv1d(in_channels=6, out_channels=8, kernel_size=3)\n",
        "        self.fc3=nn.Conv1d(in_channels=8, out_channels=10, kernel_size=1)\n",
        "        self.fc4=nn.Conv1d(in_channels=10, out_channels=40, kernel_size=1)\n",
        "        self.lstm = nn.LSTM(input_size=2, hidden_size=200, num_layers=1, batch_first=True)\n",
        "        #3 capas totalmente conectadas\n",
        "        self.fc5=nn.Linear(200, 40)\n",
        "        self.fc6=nn.Linear(40, 20)\n",
        "        self.fc7=nn.Linear(20, 1)\n",
        "\n",
        "    def forward(self, x):\n",
        "        #print (\"DIMENIONES:\")\n",
        "        #print(\"Entrada: \", x.shape)\n",
        "        #a la 1º capa le aplicamos la funcion relu y hacemos un max pooling de 5 y un dropout de 0.5\n",
        "        x= F.max_pool1d(F.relu(self.fc1(x)), 5)\n",
        "        x= F.dropout(x, 0.5)\n",
        "        #print(\"conv1: \", x.shape)\n",
        "        #a la 2º capa le aplicamos la funcion relu y hacemos un max pooling de 2 y un dropout de 0.5\n",
        "        x= F.max_pool1d(F.relu(self.fc2(x)), 2)\n",
        "        x= F.dropout(x, 0.5)\n",
        "        #print(\"conv2: \", x.shape)\n",
        "        #a la 3º capa le aplicamos la funcion relu y hacemos un average pooling de 2 y un dropout de 0.5\n",
        "        x= F.max_pool1d(F.relu(self.fc3(x)), 2)\n",
        "        x= F.dropout(x, 0.5)\n",
        "        #print(\"conv3: \", x.shape)\n",
        "        x= F.avg_pool1d(F.relu(self.fc4(x)),2)\n",
        "        x= F.dropout(x, 0.5)\n",
        "        #print(\"conv4: \", x.shape)\n",
        "        # Pasar a través de la capa LSTM\n",
        "        x, _ = self.lstm(x.unsqueeze(0))  # Añadir dimensión de la secuencia\n",
        "        #print(\"LSTM: \", x.shape)\n",
        "        #aplicamos la funcion relu a la 4º capa y un dropout de 0.5\n",
        "        #x = x.view(x.shape[0], -1)\n",
        "        #print(\"pre fc: \", x.shape)\n",
        "        x= F.sigmoid(self.fc5(x))\n",
        "        x= F.dropout(x, 0.5)\n",
        "        #aplicamos la funcion relu a la 5º capa y un dropout de 0.5\n",
        "        x= F.relu(self.fc6(x))\n",
        "        x= F.dropout(x, 0.5)\n",
        "        #la salida es la salida linear de la capa\n",
        "        x=self.fc7(x)\n",
        "        #print(\"Salida: \", x.shape)\n",
        "        return(x)\n"
      ]
    },
    {
      "cell_type": "code",
      "execution_count": null,
      "metadata": {
        "id": "i2FVmEerl6uZ"
      },
      "outputs": [],
      "source": [
        "\n",
        "import torch\n",
        "import pandas as pd\n",
        "import numpy as np\n",
        "import torch.nn as nn\n",
        "import torch.nn.functional as F\n",
        "device = 'cpu'\n",
        "#modelo =Net().to(device=device)\n",
        "modeloLSTMV30AMIGOS =Net().to(device=device)"
      ]
    },
    {
      "cell_type": "markdown",
      "metadata": {
        "id": "yxrqkrMQmAwJ"
      },
      "source": [
        "##Optimizador y criterio de perdida"
      ]
    },
    {
      "cell_type": "code",
      "execution_count": null,
      "metadata": {
        "id": "vAtBm7ThmFtV"
      },
      "outputs": [],
      "source": [
        "\n",
        "from torch import optim\n",
        "from torch import nn\n",
        "criterion = torch.nn.BCELoss() #cambiar a rmspropo\n",
        "#optimizer = optim.SGD(model.parameters(), lr=0.001,momentum=0.9)\n",
        "optimizer = optim.RMSprop(modeloLSTMV30AMIGOS.parameters(), lr=0.001)"
      ]
    },
    {
      "cell_type": "code",
      "execution_count": null,
      "metadata": {
        "id": "tWZW6S8zkA37"
      },
      "outputs": [],
      "source": [
        "import torch\n",
        "import pandas as pd\n",
        "import numpy as np\n",
        "import torch.nn as nn\n",
        "import torch.nn.functional as F\n",
        "\n",
        "from google.colab import drive\n",
        "drive.mount('/content/drive')\n",
        "\n",
        "data = pd.read_csv('/content/drive/MyDrive/TFG/datos_archivo_2.csv')\n",
        "data.head()\n",
        "\n",
        "resultados=[]\n",
        "sujetos=[2,3,4,5,6,7,8,9,10,11,13,14,15,16,17]\n",
        "for i in sujetos:\n",
        "  # Dividir el conjunto de datos en conjunto de entrenamiento y conjunto de prueba\n",
        "  train_data = data[data['id'] !=i]\n",
        "  test_data = data[data['id'] ==i]\n",
        "\n",
        "  train_dataset=miDataset(train_data)\n",
        "  test_dataset=miDataset(test_data)\n",
        "\n",
        "  trainloader= DataLoader(dataset=train_dataset, batch_size=40, shuffle=False, drop_last=True)\n",
        "  testloader=DataLoader(test_dataset, batch_size=40, shuffle=False, drop_last=True)\n",
        "\n",
        "  N_EPOCHS = 10\n",
        "  for epoch in range(N_EPOCHS):\n",
        "\n",
        "    train_loss = 0.0\n",
        "    train_correct = 0\n",
        "    train_total = 0\n",
        "    modeloLSTMV30.train()#indicamos que esta entrenando y que puede modificar pesor\n",
        "    for inputs, labels in trainloader:\n",
        "      inputs = inputs.to(device)\n",
        "      labels = labels.to(device)\n",
        "\n",
        "      optimizer.zero_grad()\n",
        "\n",
        "      outputs = modeloLSTMV30(inputs.float())\n",
        "      outputs = torch.sigmoid(outputs)\n",
        "      outputs=outputs.squeeze()\n",
        "      loss = criterion(outputs, labels)\n",
        "      loss.backward()\n",
        "      optimizer.step()\n",
        "\n",
        "      train_loss += loss.item()\n",
        "\n",
        "      # Calcular el accuracy\n",
        "      predicted = torch.round(outputs)\n",
        "      train_total += labels.size(0)\n",
        "      train_correct += (predicted == labels).sum().item()\n",
        "\n",
        "\n",
        "    train_accuracy = train_correct / train_total\n",
        "    #print(\"\\n Epoch: {} Train Acc: {:.4f}\".format(epoch, train_accuracy))\n",
        "    #print( \"Epoch: {} Train Loss: {} \".format( epoch, train_loss/len(trainloader)))\n",
        "    if epoch==9:\n",
        "      resultados.append(train_accuracy)\n",
        "      print(\"\\n Sujeto: {} Train Acc: {:.4f}\".format(i, train_accuracy))\n",
        "print(\"RESULTADOS : \", resultados)\n",
        "media_resultados = sum(resultados) / len(resultados)\n",
        "print(\"Accuracy modelo= \",media_resultados)"
      ]
    },
    {
      "cell_type": "markdown",
      "metadata": {
        "id": "R85WQvxOk6ED"
      },
      "source": [
        "##Resultados para los dos conjuntos de datos"
      ]
    },
    {
      "cell_type": "code",
      "execution_count": null,
      "metadata": {
        "colab": {
          "base_uri": "https://localhost:8080/"
        },
        "id": "fE_PgObAr7wS",
        "outputId": "d865f6f7-27a0-428e-f744-d1f9f815635d"
      },
      "outputs": [
        {
          "name": "stdout",
          "output_type": "stream",
          "text": [
            "La media de los resultados con WESAD es: 0.9355615384615384\n",
            "La media de los resultados con AMIGOS es: 0.8457142857142858\n"
          ]
        }
      ],
      "source": [
        "# Resultados de leave one subject out -cross validation\n",
        "resultados = [0.9453,0.9454, 0.9439, 0.9364, 0.9381, 0.9225, 0.9333, 0.9402, 0.9346, 0.9202, 0.9220, 0.9329, 0.9475]\n",
        "\n",
        "resultados2 = [0.8482,0.8487,0.8548, 0.8695,0.8413,0.8432, 0.8569, 0.8518, 0.8461, 0.8293, 0.8502, 0.8425, 0.8244, 0.8331]\n",
        "\n",
        "# Calcular la media de los resultados\n",
        "media_resultados = sum(resultados) / len(resultados)\n",
        "media_resultados2= sum (resultados2) /len(resultados2)\n",
        "\n",
        "print(\"La media de los resultados con WESAD es:\", media_resultados)\n",
        "print(\"La media de los resultados con AMIGOS es:\", media_resultados2)"
      ]
    },
    {
      "cell_type": "markdown",
      "metadata": {
        "id": "eFhh_47Strm9"
      },
      "source": [
        "##Almacenamiento de los datos del modelo"
      ]
    },
    {
      "cell_type": "code",
      "execution_count": null,
      "metadata": {
        "id": "uDEiyiQ7tr94"
      },
      "outputs": [],
      "source": [
        "ruta = \"/content/drive/MyDrive/TFG/modelo_entrenadoLSTM.pth\"\n",
        "torch.save(modeloLSTM.state_dict(), ruta)"
      ]
    },
    {
      "cell_type": "code",
      "execution_count": null,
      "metadata": {
        "id": "QdsTbDaiBkA9"
      },
      "outputs": [],
      "source": [
        "ruta = \"/content/drive/MyDrive/TFG/modelo_entrenadoLSTM2AMIGOS.pth\"\n",
        "torch.save(modeloLSTM2AMIGOS.state_dict(), ruta)"
      ]
    },
    {
      "cell_type": "markdown",
      "metadata": {
        "id": "fkLb8NvHt3bX"
      },
      "source": [
        "##Carga del modelo previamente entrenado"
      ]
    },
    {
      "cell_type": "code",
      "execution_count": null,
      "metadata": {
        "id": "_WkTmXALt3oR"
      },
      "outputs": [],
      "source": [
        "# Cargar el estado del modelo desde la ruta especificada\n",
        "#ruta_archivo = '/content/drive/MyDrive/TFG/modelo_entrenadoLSTM.pth'\n",
        "#modeloLSTM.load_state_dict(torch.load(ruta_archivo))"
      ]
    },
    {
      "cell_type": "code",
      "execution_count": null,
      "metadata": {
        "colab": {
          "base_uri": "https://localhost:8080/"
        },
        "id": "yAwIbeTk6Mbt",
        "outputId": "c3a03235-c29f-41b9-a1ef-61b2b1fb17e6"
      },
      "outputs": [
        {
          "data": {
            "text/plain": [
              "<All keys matched successfully>"
            ]
          },
          "execution_count": 19,
          "metadata": {},
          "output_type": "execute_result"
        }
      ],
      "source": [
        "# Cargar el estado del modelo desde la ruta especificada\n",
        "ruta_archivo = '/content/drive/MyDrive/TFG/modelo_entrenadoLSTM2AMIGOS.pth'\n",
        "modeloLSTM2AMIGOS.load_state_dict(torch.load(ruta_archivo))"
      ]
    },
    {
      "cell_type": "markdown",
      "metadata": {
        "id": "aG-JI0yrj-aV"
      },
      "source": [
        "##Bucle para probar diferentes tamaño de ventana--> 60s\n"
      ]
    },
    {
      "cell_type": "code",
      "execution_count": null,
      "metadata": {
        "colab": {
          "base_uri": "https://localhost:8080/",
          "height": 380
        },
        "collapsed": true,
        "id": "Je9EbnNQaD0z",
        "outputId": "778e886d-8956-48e9-88b6-3272305e65e5"
      },
      "outputs": [
        {
          "name": "stdout",
          "output_type": "stream",
          "text": [
            "Drive already mounted at /content/drive; to attempt to forcibly remount, call drive.mount(\"/content/drive\", force_remount=True).\n"
          ]
        },
        {
          "ename": "RuntimeError",
          "evalue": "mat1 and mat2 shapes cannot be multiplied (40x500 and 200x40)",
          "output_type": "error",
          "traceback": [
            "\u001b[0;31m---------------------------------------------------------------------------\u001b[0m",
            "\u001b[0;31mRuntimeError\u001b[0m                              Traceback (most recent call last)",
            "\u001b[0;32m<ipython-input-16-342bad6d9cef>\u001b[0m in \u001b[0;36m<cell line: 15>\u001b[0;34m()\u001b[0m\n\u001b[1;32m     37\u001b[0m       \u001b[0moptimizer\u001b[0m\u001b[0;34m.\u001b[0m\u001b[0mzero_grad\u001b[0m\u001b[0;34m(\u001b[0m\u001b[0;34m)\u001b[0m\u001b[0;34m\u001b[0m\u001b[0;34m\u001b[0m\u001b[0m\n\u001b[1;32m     38\u001b[0m \u001b[0;34m\u001b[0m\u001b[0m\n\u001b[0;32m---> 39\u001b[0;31m       \u001b[0moutputs\u001b[0m \u001b[0;34m=\u001b[0m \u001b[0mmodeloLSTMV30500L\u001b[0m\u001b[0;34m(\u001b[0m\u001b[0minputs\u001b[0m\u001b[0;34m.\u001b[0m\u001b[0mfloat\u001b[0m\u001b[0;34m(\u001b[0m\u001b[0;34m)\u001b[0m\u001b[0;34m)\u001b[0m\u001b[0;34m\u001b[0m\u001b[0;34m\u001b[0m\u001b[0m\n\u001b[0m\u001b[1;32m     40\u001b[0m       \u001b[0moutputs\u001b[0m \u001b[0;34m=\u001b[0m \u001b[0mtorch\u001b[0m\u001b[0;34m.\u001b[0m\u001b[0msigmoid\u001b[0m\u001b[0;34m(\u001b[0m\u001b[0moutputs\u001b[0m\u001b[0;34m)\u001b[0m\u001b[0;34m\u001b[0m\u001b[0;34m\u001b[0m\u001b[0m\n\u001b[1;32m     41\u001b[0m       \u001b[0moutputs\u001b[0m\u001b[0;34m=\u001b[0m\u001b[0moutputs\u001b[0m\u001b[0;34m.\u001b[0m\u001b[0msqueeze\u001b[0m\u001b[0;34m(\u001b[0m\u001b[0;34m)\u001b[0m\u001b[0;34m\u001b[0m\u001b[0;34m\u001b[0m\u001b[0m\n",
            "\u001b[0;32m/usr/local/lib/python3.10/dist-packages/torch/nn/modules/module.py\u001b[0m in \u001b[0;36m_wrapped_call_impl\u001b[0;34m(self, *args, **kwargs)\u001b[0m\n\u001b[1;32m   1530\u001b[0m             \u001b[0;32mreturn\u001b[0m \u001b[0mself\u001b[0m\u001b[0;34m.\u001b[0m\u001b[0m_compiled_call_impl\u001b[0m\u001b[0;34m(\u001b[0m\u001b[0;34m*\u001b[0m\u001b[0margs\u001b[0m\u001b[0;34m,\u001b[0m \u001b[0;34m**\u001b[0m\u001b[0mkwargs\u001b[0m\u001b[0;34m)\u001b[0m  \u001b[0;31m# type: ignore[misc]\u001b[0m\u001b[0;34m\u001b[0m\u001b[0;34m\u001b[0m\u001b[0m\n\u001b[1;32m   1531\u001b[0m         \u001b[0;32melse\u001b[0m\u001b[0;34m:\u001b[0m\u001b[0;34m\u001b[0m\u001b[0;34m\u001b[0m\u001b[0m\n\u001b[0;32m-> 1532\u001b[0;31m             \u001b[0;32mreturn\u001b[0m \u001b[0mself\u001b[0m\u001b[0;34m.\u001b[0m\u001b[0m_call_impl\u001b[0m\u001b[0;34m(\u001b[0m\u001b[0;34m*\u001b[0m\u001b[0margs\u001b[0m\u001b[0;34m,\u001b[0m \u001b[0;34m**\u001b[0m\u001b[0mkwargs\u001b[0m\u001b[0;34m)\u001b[0m\u001b[0;34m\u001b[0m\u001b[0;34m\u001b[0m\u001b[0m\n\u001b[0m\u001b[1;32m   1533\u001b[0m \u001b[0;34m\u001b[0m\u001b[0m\n\u001b[1;32m   1534\u001b[0m     \u001b[0;32mdef\u001b[0m \u001b[0m_call_impl\u001b[0m\u001b[0;34m(\u001b[0m\u001b[0mself\u001b[0m\u001b[0;34m,\u001b[0m \u001b[0;34m*\u001b[0m\u001b[0margs\u001b[0m\u001b[0;34m,\u001b[0m \u001b[0;34m**\u001b[0m\u001b[0mkwargs\u001b[0m\u001b[0;34m)\u001b[0m\u001b[0;34m:\u001b[0m\u001b[0;34m\u001b[0m\u001b[0;34m\u001b[0m\u001b[0m\n",
            "\u001b[0;32m/usr/local/lib/python3.10/dist-packages/torch/nn/modules/module.py\u001b[0m in \u001b[0;36m_call_impl\u001b[0;34m(self, *args, **kwargs)\u001b[0m\n\u001b[1;32m   1539\u001b[0m                 \u001b[0;32mor\u001b[0m \u001b[0m_global_backward_pre_hooks\u001b[0m \u001b[0;32mor\u001b[0m \u001b[0m_global_backward_hooks\u001b[0m\u001b[0;34m\u001b[0m\u001b[0;34m\u001b[0m\u001b[0m\n\u001b[1;32m   1540\u001b[0m                 or _global_forward_hooks or _global_forward_pre_hooks):\n\u001b[0;32m-> 1541\u001b[0;31m             \u001b[0;32mreturn\u001b[0m \u001b[0mforward_call\u001b[0m\u001b[0;34m(\u001b[0m\u001b[0;34m*\u001b[0m\u001b[0margs\u001b[0m\u001b[0;34m,\u001b[0m \u001b[0;34m**\u001b[0m\u001b[0mkwargs\u001b[0m\u001b[0;34m)\u001b[0m\u001b[0;34m\u001b[0m\u001b[0;34m\u001b[0m\u001b[0m\n\u001b[0m\u001b[1;32m   1542\u001b[0m \u001b[0;34m\u001b[0m\u001b[0m\n\u001b[1;32m   1543\u001b[0m         \u001b[0;32mtry\u001b[0m\u001b[0;34m:\u001b[0m\u001b[0;34m\u001b[0m\u001b[0;34m\u001b[0m\u001b[0m\n",
            "\u001b[0;32m<ipython-input-13-53e80817ae5d>\u001b[0m in \u001b[0;36mforward\u001b[0;34m(self, x)\u001b[0m\n\u001b[1;32m     38\u001b[0m         \u001b[0;31m#x = x.view(x.shape[0], -1)\u001b[0m\u001b[0;34m\u001b[0m\u001b[0;34m\u001b[0m\u001b[0m\n\u001b[1;32m     39\u001b[0m         \u001b[0;31m#print(\"pre fc: \", x.shape)\u001b[0m\u001b[0;34m\u001b[0m\u001b[0;34m\u001b[0m\u001b[0m\n\u001b[0;32m---> 40\u001b[0;31m         \u001b[0mx\u001b[0m\u001b[0;34m=\u001b[0m \u001b[0mF\u001b[0m\u001b[0;34m.\u001b[0m\u001b[0msigmoid\u001b[0m\u001b[0;34m(\u001b[0m\u001b[0mself\u001b[0m\u001b[0;34m.\u001b[0m\u001b[0mfc5\u001b[0m\u001b[0;34m(\u001b[0m\u001b[0mx\u001b[0m\u001b[0;34m)\u001b[0m\u001b[0;34m)\u001b[0m\u001b[0;34m\u001b[0m\u001b[0;34m\u001b[0m\u001b[0m\n\u001b[0m\u001b[1;32m     41\u001b[0m         \u001b[0mx\u001b[0m\u001b[0;34m=\u001b[0m \u001b[0mF\u001b[0m\u001b[0;34m.\u001b[0m\u001b[0mdropout\u001b[0m\u001b[0;34m(\u001b[0m\u001b[0mx\u001b[0m\u001b[0;34m,\u001b[0m \u001b[0;36m0.5\u001b[0m\u001b[0;34m)\u001b[0m\u001b[0;34m\u001b[0m\u001b[0;34m\u001b[0m\u001b[0m\n\u001b[1;32m     42\u001b[0m         \u001b[0;31m#aplicamos la funcion relu a la 5º capa y un dropout de 0.5\u001b[0m\u001b[0;34m\u001b[0m\u001b[0;34m\u001b[0m\u001b[0m\n",
            "\u001b[0;32m/usr/local/lib/python3.10/dist-packages/torch/nn/modules/module.py\u001b[0m in \u001b[0;36m_wrapped_call_impl\u001b[0;34m(self, *args, **kwargs)\u001b[0m\n\u001b[1;32m   1530\u001b[0m             \u001b[0;32mreturn\u001b[0m \u001b[0mself\u001b[0m\u001b[0;34m.\u001b[0m\u001b[0m_compiled_call_impl\u001b[0m\u001b[0;34m(\u001b[0m\u001b[0;34m*\u001b[0m\u001b[0margs\u001b[0m\u001b[0;34m,\u001b[0m \u001b[0;34m**\u001b[0m\u001b[0mkwargs\u001b[0m\u001b[0;34m)\u001b[0m  \u001b[0;31m# type: ignore[misc]\u001b[0m\u001b[0;34m\u001b[0m\u001b[0;34m\u001b[0m\u001b[0m\n\u001b[1;32m   1531\u001b[0m         \u001b[0;32melse\u001b[0m\u001b[0;34m:\u001b[0m\u001b[0;34m\u001b[0m\u001b[0;34m\u001b[0m\u001b[0m\n\u001b[0;32m-> 1532\u001b[0;31m             \u001b[0;32mreturn\u001b[0m \u001b[0mself\u001b[0m\u001b[0;34m.\u001b[0m\u001b[0m_call_impl\u001b[0m\u001b[0;34m(\u001b[0m\u001b[0;34m*\u001b[0m\u001b[0margs\u001b[0m\u001b[0;34m,\u001b[0m \u001b[0;34m**\u001b[0m\u001b[0mkwargs\u001b[0m\u001b[0;34m)\u001b[0m\u001b[0;34m\u001b[0m\u001b[0;34m\u001b[0m\u001b[0m\n\u001b[0m\u001b[1;32m   1533\u001b[0m \u001b[0;34m\u001b[0m\u001b[0m\n\u001b[1;32m   1534\u001b[0m     \u001b[0;32mdef\u001b[0m \u001b[0m_call_impl\u001b[0m\u001b[0;34m(\u001b[0m\u001b[0mself\u001b[0m\u001b[0;34m,\u001b[0m \u001b[0;34m*\u001b[0m\u001b[0margs\u001b[0m\u001b[0;34m,\u001b[0m \u001b[0;34m**\u001b[0m\u001b[0mkwargs\u001b[0m\u001b[0;34m)\u001b[0m\u001b[0;34m:\u001b[0m\u001b[0;34m\u001b[0m\u001b[0;34m\u001b[0m\u001b[0m\n",
            "\u001b[0;32m/usr/local/lib/python3.10/dist-packages/torch/nn/modules/module.py\u001b[0m in \u001b[0;36m_call_impl\u001b[0;34m(self, *args, **kwargs)\u001b[0m\n\u001b[1;32m   1539\u001b[0m                 \u001b[0;32mor\u001b[0m \u001b[0m_global_backward_pre_hooks\u001b[0m \u001b[0;32mor\u001b[0m \u001b[0m_global_backward_hooks\u001b[0m\u001b[0;34m\u001b[0m\u001b[0;34m\u001b[0m\u001b[0m\n\u001b[1;32m   1540\u001b[0m                 or _global_forward_hooks or _global_forward_pre_hooks):\n\u001b[0;32m-> 1541\u001b[0;31m             \u001b[0;32mreturn\u001b[0m \u001b[0mforward_call\u001b[0m\u001b[0;34m(\u001b[0m\u001b[0;34m*\u001b[0m\u001b[0margs\u001b[0m\u001b[0;34m,\u001b[0m \u001b[0;34m**\u001b[0m\u001b[0mkwargs\u001b[0m\u001b[0;34m)\u001b[0m\u001b[0;34m\u001b[0m\u001b[0;34m\u001b[0m\u001b[0m\n\u001b[0m\u001b[1;32m   1542\u001b[0m \u001b[0;34m\u001b[0m\u001b[0m\n\u001b[1;32m   1543\u001b[0m         \u001b[0;32mtry\u001b[0m\u001b[0;34m:\u001b[0m\u001b[0;34m\u001b[0m\u001b[0;34m\u001b[0m\u001b[0m\n",
            "\u001b[0;32m/usr/local/lib/python3.10/dist-packages/torch/nn/modules/linear.py\u001b[0m in \u001b[0;36mforward\u001b[0;34m(self, input)\u001b[0m\n\u001b[1;32m    114\u001b[0m \u001b[0;34m\u001b[0m\u001b[0m\n\u001b[1;32m    115\u001b[0m     \u001b[0;32mdef\u001b[0m \u001b[0mforward\u001b[0m\u001b[0;34m(\u001b[0m\u001b[0mself\u001b[0m\u001b[0;34m,\u001b[0m \u001b[0minput\u001b[0m\u001b[0;34m:\u001b[0m \u001b[0mTensor\u001b[0m\u001b[0;34m)\u001b[0m \u001b[0;34m->\u001b[0m \u001b[0mTensor\u001b[0m\u001b[0;34m:\u001b[0m\u001b[0;34m\u001b[0m\u001b[0;34m\u001b[0m\u001b[0m\n\u001b[0;32m--> 116\u001b[0;31m         \u001b[0;32mreturn\u001b[0m \u001b[0mF\u001b[0m\u001b[0;34m.\u001b[0m\u001b[0mlinear\u001b[0m\u001b[0;34m(\u001b[0m\u001b[0minput\u001b[0m\u001b[0;34m,\u001b[0m \u001b[0mself\u001b[0m\u001b[0;34m.\u001b[0m\u001b[0mweight\u001b[0m\u001b[0;34m,\u001b[0m \u001b[0mself\u001b[0m\u001b[0;34m.\u001b[0m\u001b[0mbias\u001b[0m\u001b[0;34m)\u001b[0m\u001b[0;34m\u001b[0m\u001b[0;34m\u001b[0m\u001b[0m\n\u001b[0m\u001b[1;32m    117\u001b[0m \u001b[0;34m\u001b[0m\u001b[0m\n\u001b[1;32m    118\u001b[0m     \u001b[0;32mdef\u001b[0m \u001b[0mextra_repr\u001b[0m\u001b[0;34m(\u001b[0m\u001b[0mself\u001b[0m\u001b[0;34m)\u001b[0m \u001b[0;34m->\u001b[0m \u001b[0mstr\u001b[0m\u001b[0;34m:\u001b[0m\u001b[0;34m\u001b[0m\u001b[0;34m\u001b[0m\u001b[0m\n",
            "\u001b[0;31mRuntimeError\u001b[0m: mat1 and mat2 shapes cannot be multiplied (40x500 and 200x40)"
          ]
        }
      ],
      "source": [
        "import torch\n",
        "import pandas as pd\n",
        "import numpy as np\n",
        "import torch.nn as nn\n",
        "import torch.nn.functional as F\n",
        "\n",
        "from google.colab import drive\n",
        "drive.mount('/content/drive')\n",
        "\n",
        "data = pd.read_csv('/content/drive/MyDrive/TFG/datos_archivoVENTANA30.csv')\n",
        "data.head()\n",
        "\n",
        "resultados=[]\n",
        "sujetos=[2,3,4,5,6,7,8,9,10,11,13,14,15,16,17]\n",
        "for i in sujetos:\n",
        "  # Dividir el conjunto de datos en conjunto de entrenamiento y conjunto de prueba\n",
        "  train_data = data[data['id'] !=i]\n",
        "  test_data = data[data['id'] ==i]\n",
        "\n",
        "  train_dataset=miDataset(train_data)\n",
        "  test_dataset=miDataset(test_data)\n",
        "\n",
        "  trainloader= DataLoader(dataset=train_dataset, batch_size=40, shuffle=False, drop_last=True)\n",
        "  testloader=DataLoader(test_dataset, batch_size=40, shuffle=False, drop_last=True)\n",
        "\n",
        "  N_EPOCHS = 10\n",
        "  for epoch in range(N_EPOCHS):\n",
        "\n",
        "    train_loss = 0.0\n",
        "    train_correct = 0\n",
        "    train_total = 0\n",
        "    modeloLSTMV30.train()#indicamos que esta entrenando y que puede modificar pesor\n",
        "    for inputs, labels in trainloader:\n",
        "      inputs = inputs.to(device)\n",
        "      labels = labels.to(device)\n",
        "\n",
        "      optimizer.zero_grad()\n",
        "\n",
        "      outputs = modeloLSTMV30(inputs.float())\n",
        "      outputs = torch.sigmoid(outputs)\n",
        "      outputs=outputs.squeeze()\n",
        "      loss = criterion(outputs, labels)\n",
        "      loss.backward()\n",
        "      optimizer.step()\n",
        "\n",
        "      train_loss += loss.item()\n",
        "\n",
        "      # Calcular el accuracy\n",
        "      predicted = torch.round(outputs)\n",
        "      train_total += labels.size(0)\n",
        "      train_correct += (predicted == labels).sum().item()\n",
        "\n",
        "\n",
        "    train_accuracy = train_correct / train_total\n",
        "    #print(\"\\n Epoch: {} Train Acc: {:.4f}\".format(epoch, train_accuracy))\n",
        "    #print( \"Epoch: {} Train Loss: {} \".format( epoch, train_loss/len(trainloader)))\n",
        "    if epoch==9:\n",
        "      resultados.append(train_accuracy)\n",
        "      print(\"\\n Sujeto: {} Train Acc: {:.4f}\".format(i, train_accuracy))\n",
        "print(\"RESULTADOS : \", resultados)\n",
        "media_resultados = sum(resultados) / len(resultados)\n",
        "print(\"Accuracy modelo= \",media_resultados)"
      ]
    },
    {
      "cell_type": "code",
      "execution_count": null,
      "metadata": {
        "id": "E1CiYVXX7F4W"
      },
      "outputs": [],
      "source": [
        "ruta = \"/content/drive/MyDrive/TFG/modelo_entrenadoV30.pth\"\n",
        "torch.save(modeloLSTMV30.state_dict(), ruta)"
      ]
    },
    {
      "cell_type": "markdown",
      "metadata": {
        "id": "cCwd3IW9jcvY"
      },
      "source": [
        "##Bucle para probar diferentes tamaño de ventana--> 120s\n",
        "\n"
      ]
    },
    {
      "cell_type": "code",
      "execution_count": null,
      "metadata": {
        "colab": {
          "base_uri": "https://localhost:8080/"
        },
        "id": "TngOXo6O44Jm",
        "outputId": "660a2151-706b-4241-98b6-79bcf537e838"
      },
      "outputs": [
        {
          "name": "stdout",
          "output_type": "stream",
          "text": [
            "Drive already mounted at /content/drive; to attempt to forcibly remount, call drive.mount(\"/content/drive\", force_remount=True).\n",
            "\n",
            " Sujeto: 2 Train Acc: 0.8458\n",
            "\n",
            " Sujeto: 3 Train Acc: 0.8566\n",
            "\n",
            " Sujeto: 4 Train Acc: 0.8321\n",
            "\n",
            " Sujeto: 5 Train Acc: 0.8548\n",
            "\n",
            " Sujeto: 6 Train Acc: 0.8069\n",
            "\n",
            " Sujeto: 7 Train Acc: 0.8625\n",
            "\n",
            " Sujeto: 8 Train Acc: 0.8296\n",
            "\n",
            " Sujeto: 9 Train Acc: 0.8063\n",
            "\n",
            " Sujeto: 10 Train Acc: 0.7946\n",
            "\n",
            " Sujeto: 11 Train Acc: 0.8039\n",
            "\n",
            " Sujeto: 13 Train Acc: 0.7196\n",
            "\n",
            " Sujeto: 14 Train Acc: 0.8114\n",
            "\n",
            " Sujeto: 15 Train Acc: 0.7813\n",
            "\n",
            " Sujeto: 16 Train Acc: 0.8040\n",
            "\n",
            " Sujeto: 17 Train Acc: 0.7642\n",
            "RESULTADOS :  [0.8457867412140575, 0.8566094249201278, 0.8321485623003195, 0.8548123003194888, 0.8069488817891374, 0.8625199680511182, 0.829552715654952, 0.806285028022418, 0.7946485623003194, 0.8039337060702876, 0.7195886581469648, 0.8114017571884984, 0.7813298722044728, 0.8040135782747604, 0.7642372204472844]\n",
            "Accuracy modelo=  0.8115877984602806\n"
          ]
        }
      ],
      "source": [
        "import torch\n",
        "import pandas as pd\n",
        "import numpy as np\n",
        "import torch.nn as nn\n",
        "import torch.nn.functional as F\n",
        "\n",
        "from google.colab import drive\n",
        "drive.mount('/content/drive')\n",
        "\n",
        "data = pd.read_csv('/content/drive/MyDrive/TFG/datos_archivoVENTANA120.csv')\n",
        "data.head()\n",
        "\n",
        "resultados=[]\n",
        "sujetos=[2,3,4,5,6,7,8,9,10,11,13,14,15,16,17]\n",
        "for i in sujetos:\n",
        "  # Dividir el conjunto de datos en conjunto de entrenamiento y conjunto de prueba\n",
        "  train_data = data[data['id'] !=i]\n",
        "  test_data = data[data['id'] ==i]\n",
        "\n",
        "  train_dataset=miDataset(train_data)\n",
        "  test_dataset=miDataset(test_data)\n",
        "\n",
        "  trainloader= DataLoader(dataset=train_dataset, batch_size=40, shuffle=False, drop_last=True)\n",
        "  testloader=DataLoader(test_dataset, batch_size=40, shuffle=False, drop_last=True)\n",
        "\n",
        "  N_EPOCHS = 10\n",
        "  for epoch in range(N_EPOCHS):\n",
        "\n",
        "    train_loss = 0.0\n",
        "    train_correct = 0\n",
        "    train_total = 0\n",
        "    modeloLSTMV120.train()#indicamos que esta entrenando y que puede modificar pesor\n",
        "    for inputs, labels in trainloader:\n",
        "      inputs = inputs.to(device)\n",
        "      labels = labels.to(device)\n",
        "\n",
        "      optimizer.zero_grad()\n",
        "\n",
        "      outputs = modeloLSTMV120(inputs.float())\n",
        "      outputs = torch.sigmoid(outputs)\n",
        "      outputs=outputs.squeeze()\n",
        "      loss = criterion(outputs, labels)\n",
        "      loss.backward()\n",
        "      optimizer.step()\n",
        "\n",
        "      train_loss += loss.item()\n",
        "\n",
        "      # Calcular el accuracy\n",
        "      predicted = torch.round(outputs)\n",
        "      train_total += labels.size(0)\n",
        "      train_correct += (predicted == labels).sum().item()\n",
        "\n",
        "\n",
        "    train_accuracy = train_correct / train_total\n",
        "    #print(\"\\n Epoch: {} Train Acc: {:.4f}\".format(epoch, train_accuracy))\n",
        "    #print( \"Epoch: {} Train Loss: {} \".format( epoch, train_loss/len(trainloader)))\n",
        "    if epoch==9:\n",
        "      resultados.append(train_accuracy)\n",
        "      print(\"\\n Sujeto: {} Train Acc: {:.4f}\".format(i, train_accuracy))\n",
        "print(\"RESULTADOS : \", resultados)\n",
        "media_resultados = sum(resultados) / len(resultados)\n",
        "print(\"Accuracy modelo= \",media_resultados)"
      ]
    },
    {
      "cell_type": "code",
      "execution_count": null,
      "metadata": {
        "id": "2BzOQw3N41ec"
      },
      "outputs": [],
      "source": [
        "ruta = \"/content/drive/MyDrive/TFG/modelo_entrenadoV120.pth\"\n",
        "torch.save(modeloLSTMV120.state_dict(), ruta)"
      ]
    },
    {
      "cell_type": "markdown",
      "metadata": {
        "id": "PjE1HP8XjzBM"
      },
      "source": [
        "##Bucle para probar diferentes tamaño de ventana--> 15s\n"
      ]
    },
    {
      "cell_type": "code",
      "execution_count": null,
      "metadata": {
        "colab": {
          "base_uri": "https://localhost:8080/"
        },
        "id": "NhUF30EmM_pQ",
        "outputId": "27afc765-8090-48ba-e053-6429aedd2778"
      },
      "outputs": [
        {
          "name": "stdout",
          "output_type": "stream",
          "text": [
            "Drive already mounted at /content/drive; to attempt to forcibly remount, call drive.mount(\"/content/drive\", force_remount=True).\n",
            "\n",
            " Sujeto: 2 Train Acc: 0.9869\n",
            "\n",
            " Sujeto: 3 Train Acc: 0.9864\n",
            "\n",
            " Sujeto: 4 Train Acc: 0.9864\n",
            "\n",
            " Sujeto: 5 Train Acc: 0.9860\n",
            "\n",
            " Sujeto: 6 Train Acc: 0.9852\n",
            "\n",
            " Sujeto: 7 Train Acc: 0.9857\n",
            "\n",
            " Sujeto: 8 Train Acc: 0.9859\n",
            "\n",
            " Sujeto: 9 Train Acc: 0.9915\n",
            "\n",
            " Sujeto: 10 Train Acc: 0.9912\n",
            "\n",
            " Sujeto: 11 Train Acc: 0.9884\n",
            "\n",
            " Sujeto: 13 Train Acc: 0.9863\n",
            "\n",
            " Sujeto: 14 Train Acc: 0.9848\n",
            "\n",
            " Sujeto: 15 Train Acc: 0.9843\n",
            "\n",
            " Sujeto: 16 Train Acc: 0.9841\n",
            "\n",
            " Sujeto: 17 Train Acc: 0.9840\n",
            "RESULTADOS :  [0.9868981964525264, 0.9863541511402594, 0.9863653301535251, 0.9860150544045312, 0.9851654493963333, 0.9856535996422716, 0.9858734535698316, 0.9915247273270581, 0.9912244745863765, 0.9883850052168729, 0.9863280667759726, 0.9848338053361156, 0.9843307497391564, 0.9841108958115964, 0.9839655686391414]\n",
            "Accuracy modelo=  0.9864685685461045\n"
          ]
        }
      ],
      "source": [
        "import torch\n",
        "import pandas as pd\n",
        "import numpy as np\n",
        "import torch.nn as nn\n",
        "import torch.nn.functional as F\n",
        "\n",
        "from google.colab import drive\n",
        "drive.mount('/content/drive')\n",
        "\n",
        "data = pd.read_csv('/content/drive/MyDrive/TFG/datos_archivoVENTANA15.csv')\n",
        "data.head()\n",
        "\n",
        "resultados=[]\n",
        "sujetos=[2,3,4,5,6,7,8,9,10,11,13,14,15,16,17]\n",
        "for i in sujetos:\n",
        "  # Dividir el conjunto de datos en conjunto de entrenamiento y conjunto de prueba\n",
        "  train_data = data[data['id'] !=i]\n",
        "  test_data = data[data['id'] ==i]\n",
        "\n",
        "  train_dataset=miDataset(train_data)\n",
        "  test_dataset=miDataset(test_data)\n",
        "\n",
        "  trainloader= DataLoader(dataset=train_dataset, batch_size=40, shuffle=False, drop_last=True)\n",
        "  testloader=DataLoader(test_dataset, batch_size=40, shuffle=False, drop_last=True)\n",
        "\n",
        "  N_EPOCHS = 10\n",
        "  for epoch in range(N_EPOCHS):\n",
        "\n",
        "    train_loss = 0.0\n",
        "    train_correct = 0\n",
        "    train_total = 0\n",
        "    modeloLSTMV15.train()#indicamos que esta entrenando y que puede modificar pesor\n",
        "    for inputs, labels in trainloader:\n",
        "      inputs = inputs.to(device)\n",
        "      labels = labels.to(device)\n",
        "\n",
        "      optimizer.zero_grad()\n",
        "\n",
        "      outputs = modeloLSTMV15(inputs.float())\n",
        "      outputs = torch.sigmoid(outputs)\n",
        "      outputs=outputs.squeeze()\n",
        "      loss = criterion(outputs, labels)\n",
        "      loss.backward()\n",
        "      optimizer.step()\n",
        "\n",
        "      train_loss += loss.item()\n",
        "\n",
        "      # Calcular el accuracy\n",
        "      predicted = torch.round(outputs)\n",
        "      train_total += labels.size(0)\n",
        "      train_correct += (predicted == labels).sum().item()\n",
        "\n",
        "\n",
        "    train_accuracy = train_correct / train_total\n",
        "    #print(\"\\n Epoch: {} Train Acc: {:.4f}\".format(epoch, train_accuracy))\n",
        "    #print( \"Epoch: {} Train Loss: {} \".format( epoch, train_loss/len(trainloader)))\n",
        "    if epoch==9:\n",
        "      resultados.append(train_accuracy)\n",
        "      print(\"\\n Sujeto: {} Train Acc: {:.4f}\".format(i, train_accuracy))\n",
        "print(\"RESULTADOS : \", resultados)\n",
        "media_resultados = sum(resultados) / len(resultados)\n",
        "print(\"Accuracy modelo= \",media_resultados)"
      ]
    },
    {
      "cell_type": "markdown",
      "metadata": {
        "id": "CveZCiTDhs4M"
      },
      "source": [
        "##PRUEBA DE DIFERENTES TAMAÑOS DE LSTM-->500"
      ]
    },
    {
      "cell_type": "code",
      "execution_count": null,
      "metadata": {
        "id": "7F-5ulr4h5-Q"
      },
      "outputs": [],
      "source": [
        "#creacion del modelo\n",
        "#hidden size 200, 500, 1000\n",
        "class Net(nn.Module,):\n",
        "    def __init__(self):\n",
        "        super(Net, self).__init__()\n",
        "        self.fc1=nn.Conv1d(in_channels=40, out_channels=6, kernel_size=10)\n",
        "        self.fc2=nn.Conv1d(in_channels=6, out_channels=8, kernel_size=3)\n",
        "        self.fc3=nn.Conv1d(in_channels=8, out_channels=10, kernel_size=1)\n",
        "        self.fc4=nn.Conv1d(in_channels=10, out_channels=40, kernel_size=1)\n",
        "        self.lstm = nn.LSTM(input_size=2, hidden_size=500, num_layers=1, batch_first=True)\n",
        "        #3 capas totalmente conectadas\n",
        "        self.fc5=nn.Linear(500, 40)\n",
        "        self.fc6=nn.Linear(40, 20)\n",
        "        self.fc7=nn.Linear(20, 1)\n",
        "\n",
        "    def forward(self, x):\n",
        "        #print (\"DIMENIONES:\")\n",
        "        #print(\"Entrada: \", x.shape)\n",
        "        #a la 1º capa le aplicamos la funcion relu y hacemos un max pooling de 5 y un dropout de 0.5\n",
        "        x= F.max_pool1d(F.relu(self.fc1(x)), 5)\n",
        "        x= F.dropout(x, 0.5)\n",
        "        #print(\"conv1: \", x.shape)\n",
        "        #a la 2º capa le aplicamos la funcion relu y hacemos un max pooling de 2 y un dropout de 0.5\n",
        "        x= F.max_pool1d(F.relu(self.fc2(x)), 2)\n",
        "        x= F.dropout(x, 0.5)\n",
        "        #print(\"conv2: \", x.shape)\n",
        "        #a la 3º capa le aplicamos la funcion relu y hacemos un average pooling de 2 y un dropout de 0.5\n",
        "        x= F.max_pool1d(F.relu(self.fc3(x)), 2)\n",
        "        x= F.dropout(x, 0.5)\n",
        "        #print(\"conv3: \", x.shape)\n",
        "        x= F.avg_pool1d(F.relu(self.fc4(x)),2)\n",
        "        x= F.dropout(x, 0.5)\n",
        "        #print(\"conv4: \", x.shape)\n",
        "        # Pasar a través de la capa LSTM\n",
        "        x, _ = self.lstm(x.unsqueeze(0))  # Añadir dimensión de la secuencia\n",
        "        #print(\"LSTM: \", x.shape)\n",
        "        #aplicamos la funcion relu a la 4º capa y un dropout de 0.5\n",
        "        #x = x.view(x.shape[0], -1)\n",
        "        #print(\"pre fc: \", x.shape)\n",
        "        x= F.sigmoid(self.fc5(x))\n",
        "        x= F.dropout(x, 0.5)\n",
        "        #aplicamos la funcion relu a la 5º capa y un dropout de 0.5\n",
        "        x= F.relu(self.fc6(x))\n",
        "        x= F.dropout(x, 0.5)\n",
        "        #la salida es la salida linear de la capa\n",
        "        x=self.fc7(x)\n",
        "        #print(\"Salida: \", x.shape)\n",
        "        return(x)"
      ]
    },
    {
      "cell_type": "code",
      "execution_count": null,
      "metadata": {
        "id": "IS4uED8yiCEP"
      },
      "outputs": [],
      "source": [
        "import torch\n",
        "import pandas as pd\n",
        "import numpy as np\n",
        "import torch.nn as nn\n",
        "import torch.nn.functional as F\n",
        "device = 'cpu'\n",
        "#modelo =Net().to(device=device)\n",
        "modeloLSTMV30500L =Net().to(device=device)"
      ]
    },
    {
      "cell_type": "code",
      "execution_count": null,
      "metadata": {
        "id": "mfWfBS_UiKQO"
      },
      "outputs": [],
      "source": [
        "\n",
        "from torch import optim\n",
        "from torch import nn\n",
        "criterion = torch.nn.BCELoss() #cambiar a rmspropo\n",
        "#optimizer = optim.SGD(model.parameters(), lr=0.001,momentum=0.9)\n",
        "optimizer = optim.RMSprop(modeloLSTMV30500L.parameters(), lr=0.001)"
      ]
    },
    {
      "cell_type": "code",
      "execution_count": null,
      "metadata": {
        "id": "SljDDYELiRo2"
      },
      "outputs": [],
      "source": [
        "import torch\n",
        "import pandas as pd\n",
        "import numpy as np\n",
        "import torch.nn as nn\n",
        "import torch.nn.functional as F\n",
        "\n",
        "from google.colab import drive\n",
        "drive.mount('/content/drive')\n",
        "\n",
        "data = pd.read_csv('/content/drive/MyDrive/TFG/datos_archivoVENTANA30.csv')\n",
        "data.head()\n",
        "\n",
        "resultados=[]\n",
        "sujetos=[7,8,9,10,11]\n",
        "for i in sujetos:\n",
        "  # Dividir el conjunto de datos en conjunto de entrenamiento y conjunto de prueba\n",
        "  train_data = data[data['id'] !=i]\n",
        "  test_data = data[data['id'] ==i]\n",
        "\n",
        "  train_dataset=miDataset(train_data)\n",
        "  test_dataset=miDataset(test_data)\n",
        "\n",
        "  trainloader= DataLoader(dataset=train_dataset, batch_size=40, shuffle=False, drop_last=True)\n",
        "  testloader=DataLoader(test_dataset, batch_size=40, shuffle=False, drop_last=True)\n",
        "\n",
        "  N_EPOCHS = 10\n",
        "  for epoch in range(N_EPOCHS):\n",
        "\n",
        "    train_loss = 0.0\n",
        "    train_correct = 0\n",
        "    train_total = 0\n",
        "    modeloLSTMV30500L.train()#indicamos que esta entrenando y que puede modificar pesor\n",
        "    for inputs, labels in trainloader:\n",
        "      inputs = inputs.to(device)\n",
        "      labels = labels.to(device)\n",
        "\n",
        "      optimizer.zero_grad()\n",
        "\n",
        "      outputs = modeloLSTMV30500L(inputs.float())\n",
        "      outputs = torch.sigmoid(outputs)\n",
        "      outputs=outputs.squeeze()\n",
        "      loss = criterion(outputs, labels)\n",
        "      loss.backward()\n",
        "      optimizer.step()\n",
        "\n",
        "      train_loss += loss.item()\n",
        "\n",
        "      # Calcular el accuracy\n",
        "      predicted = torch.round(outputs)\n",
        "      train_total += labels.size(0)\n",
        "      train_correct += (predicted == labels).sum().item()\n",
        "\n",
        "\n",
        "    train_accuracy = train_correct / train_total\n",
        "    #print(\"\\n Epoch: {} Train Acc: {:.4f}\".format(epoch, train_accuracy))\n",
        "    #print( \"Epoch: {} Train Loss: {} \".format( epoch, train_loss/len(trainloader)))\n",
        "    if epoch==9:\n",
        "      resultados.append(train_accuracy)\n",
        "      print(\"\\n Sujeto: {} Train Acc: {:.4f}\".format(i, train_accuracy))\n",
        "print(\"RESULTADOS : \", resultados)\n",
        "media_resultados = sum(resultados) / len(resultados)\n",
        "print(\"Accuracy modelo= \",media_resultados)"
      ]
    },
    {
      "cell_type": "code",
      "execution_count": null,
      "metadata": {
        "id": "gUp1BhaVIOm4"
      },
      "outputs": [],
      "source": [
        "ruta = \"/content/drive/MyDrive/TFG/modelo_entrenadoLSTMV30500L.pth\"\n",
        "torch.save(modeloLSTMV30500L.state_dict(), ruta)"
      ]
    },
    {
      "cell_type": "code",
      "source": [
        "import numpy as np\n",
        "\n",
        "# Definir los valores de precisión del entrenamiento en un array\n",
        "train_accuracies = [0.9877, 0.9860, 0.9838, 0.9838, 0.9830, 0.9889, 0.9881, 0.9886]\n",
        "\n",
        "# Calcular la media\n",
        "mean_accuracy = np.mean(train_accuracies)\n",
        "\n",
        "# Mostrar la media\n",
        "print(\"La media de Train Acc es:\", mean_accuracy)"
      ],
      "metadata": {
        "colab": {
          "base_uri": "https://localhost:8080/"
        },
        "id": "8PNtXKcrYJY5",
        "outputId": "547126e4-05e3-47ac-f380-681f127a4bcb"
      },
      "execution_count": null,
      "outputs": [
        {
          "output_type": "stream",
          "name": "stdout",
          "text": [
            "La media de Train Acc es: 0.9862375\n"
          ]
        }
      ]
    },
    {
      "cell_type": "markdown",
      "metadata": {
        "id": "JF8n0aBm54mW"
      },
      "source": [
        "##Dataset de AMIGOS y ventana de 30s"
      ]
    },
    {
      "cell_type": "code",
      "execution_count": null,
      "metadata": {
        "colab": {
          "base_uri": "https://localhost:8080/"
        },
        "id": "RRkq0Wzo53gA",
        "outputId": "3f4e84d1-0b0d-4b89-961a-afe552cee1a1"
      },
      "outputs": [
        {
          "name": "stdout",
          "output_type": "stream",
          "text": [
            "Drive already mounted at /content/drive; to attempt to forcibly remount, call drive.mount(\"/content/drive\", force_remount=True).\n",
            "\n",
            " Sujeto: 10 Train Acc: 0.9224\n",
            "\n",
            " Sujeto: 11 Train Acc: 0.9183\n",
            "\n",
            " Sujeto: 12 Train Acc: 0.9277\n",
            "\n",
            " Sujeto: 13 Train Acc: 0.9290\n",
            "\n",
            " Sujeto: 14 Train Acc: 0.9275\n",
            "\n",
            " Sujeto: 15 Train Acc: 0.9149\n",
            "RESULTADOS :  [0.9224411905904945, 0.9183437349975996, 0.9276524243879021, 0.929018242918867, 0.9275036005760922, 0.9149423907825252]\n",
            "Accuracy modelo=  0.9233169307089134\n"
          ]
        }
      ],
      "source": [
        "import torch\n",
        "import pandas as pd\n",
        "import numpy as np\n",
        "import torch.nn as nn\n",
        "import torch.nn.functional as F\n",
        "\n",
        "from google.colab import drive\n",
        "drive.mount('/content/drive')\n",
        "\n",
        "data = pd.read_csv('/content/drive/MyDrive/TFG/CNN_AMIGOSV30.csv')\n",
        "data.head()\n",
        "\n",
        "resultados=[]\n",
        "sujetos=[10,11,12,13,14,15]\n",
        "for i in sujetos:\n",
        "  # Dividir el conjunto de datos en conjunto de entrenamiento y conjunto de prueba\n",
        "  train_data = data[data['id'] !=i]\n",
        "  test_data = data[data['id'] ==i]\n",
        "\n",
        "  train_dataset=miDataset(train_data)\n",
        "  test_dataset=miDataset(test_data)\n",
        "\n",
        "  trainloader= DataLoader(dataset=train_dataset, batch_size=40, shuffle=False, drop_last=True)\n",
        "  testloader=DataLoader(test_dataset, batch_size=40, shuffle=False, drop_last=True)\n",
        "\n",
        "  N_EPOCHS = 10\n",
        "  for epoch in range(N_EPOCHS):\n",
        "\n",
        "    train_loss = 0.0\n",
        "    train_correct = 0\n",
        "    train_total = 0\n",
        "    modeloLSTMV30AMIGOS.train()#indicamos que esta entrenando y que puede modificar pesor\n",
        "    for inputs, labels in trainloader:\n",
        "      inputs = inputs.to(device)\n",
        "      labels = labels.to(device)\n",
        "\n",
        "      optimizer.zero_grad()\n",
        "\n",
        "      outputs = modeloLSTMV30AMIGOS(inputs.float())\n",
        "      outputs = torch.sigmoid(outputs)\n",
        "      outputs=outputs.squeeze()\n",
        "      loss = criterion(outputs, labels)\n",
        "      loss.backward()\n",
        "      optimizer.step()\n",
        "\n",
        "      train_loss += loss.item()\n",
        "\n",
        "      # Calcular el accuracy\n",
        "      predicted = torch.round(outputs)\n",
        "      train_total += labels.size(0)\n",
        "      train_correct += (predicted == labels).sum().item()\n",
        "\n",
        "\n",
        "    train_accuracy = train_correct / train_total\n",
        "    #print(\"\\n Epoch: {} Train Acc: {:.4f}\".format(epoch, train_accuracy))\n",
        "    #print( \"Epoch: {} Train Loss: {} \".format( epoch, train_loss/len(trainloader)))\n",
        "    if epoch==9:\n",
        "      resultados.append(train_accuracy)\n",
        "      print(\"\\n Sujeto: {} Train Acc: {:.4f}\".format(i, train_accuracy))\n",
        "print(\"RESULTADOS : \", resultados)\n"
      ]
    },
    {
      "cell_type": "code",
      "execution_count": null,
      "metadata": {
        "id": "KAoWGySRTNW3"
      },
      "outputs": [],
      "source": [
        "ruta = \"/content/drive/MyDrive/TFG/modelo_entrenadoAMIGOSV30.pth\"\n",
        "torch.save(modeloLSTMV30AMIGOS.state_dict(), ruta)"
      ]
    },
    {
      "cell_type": "markdown",
      "metadata": {
        "id": "sIg3kLYb-kvY"
      },
      "source": [
        " Sujeto: 1 Train Acc: 0.9341\n",
        "\n",
        " Sujeto: 2 Train Acc: 0.9389\n",
        "\n",
        " Sujeto: 3 Train Acc: 0.9145\n",
        "\n",
        " Sujeto: 4 Train Acc: 0.9247\n",
        "\n",
        " Sujeto: 5 Train Acc: 0.9307\n",
        "\n",
        " Sujeto: 6 Train Acc: 0.9183\n",
        "\n",
        " Sujeto: 7 Train Acc: 0.9214\n",
        "\n",
        " Sujeto: 8 Train Acc: 0.9277\n",
        "\n",
        " Sujeto: 9 Train Acc: 0.9303\n",
        "\n",
        " Sujeto: 10 Train Acc: 0.9224\n",
        "\n",
        " Sujeto: 11 Train Acc: 0.9183\n",
        "\n",
        " Sujeto: 12 Train Acc: 0.9277\n",
        "\n",
        " Sujeto: 13 Train Acc: 0.9290\n",
        "\n",
        "Sujeto: 15 Train Acc: 0.9149\n",
        "\n",
        " Sujeto: 14 Train Acc: 0.9275\n",
        "\n",
        "\n",
        "\n",
        "\n",
        "\n",
        "\n",
        "\n",
        "\n",
        "\n",
        "\n",
        "\n",
        "\n",
        "\n",
        "\n",
        "\n",
        "\n",
        "\n",
        "\n",
        "\n",
        "\n",
        "\n"
      ]
    },
    {
      "cell_type": "code",
      "execution_count": null,
      "metadata": {
        "colab": {
          "base_uri": "https://localhost:8080/"
        },
        "id": "lWWlMpCkryut",
        "outputId": "6d1e88ce-afb4-44eb-f0de-4bdd52ed5151"
      },
      "outputs": [
        {
          "name": "stdout",
          "output_type": "stream",
          "text": [
            "Accuracy modelo=  0.92536\n"
          ]
        }
      ],
      "source": [
        "# Lista de precisiones de entrenamiento\n",
        "train_accuracies = [\n",
        "    0.9341,  # Sujeto 1\n",
        "    0.9389,  # Sujeto 2\n",
        "    0.9145,  # Sujeto 3\n",
        "    0.9247,  # Sujeto 4\n",
        "    0.9307,  # Sujeto 5\n",
        "    0.9183,  # Sujeto 6\n",
        "    0.9214,  # Sujeto 7\n",
        "    0.9277,  # Sujeto 8\n",
        "    0.9303,  # Sujeto 9\n",
        "    0.9224,  # Sujeto 10\n",
        "    0.9183,  # Sujeto 11\n",
        "    0.9277,  # Sujeto 12\n",
        "    0.9290,  # Sujeto 13\n",
        "    0.9275,  # Sujeto 14\n",
        "    0.9149   # Sujeto 15\n",
        "]\n",
        "media_resultados = sum(train_accuracies) / len(train_accuracies)\n",
        "print(\"Accuracy modelo= \",media_resultados)"
      ]
    },
    {
      "cell_type": "markdown",
      "metadata": {
        "id": "Qthg76kcNgeU"
      },
      "source": [
        "##RED LSTM BIDIRECCIONAL\n"
      ]
    },
    {
      "cell_type": "markdown",
      "metadata": {
        "id": "x08L3qrOO4tP"
      },
      "source": [
        "##Creación del modelo"
      ]
    },
    {
      "cell_type": "code",
      "execution_count": null,
      "metadata": {
        "id": "pDPgIpSnN7H_"
      },
      "outputs": [],
      "source": [
        "#creacion del modelo\n",
        "class Net(nn.Module,):\n",
        "    def __init__(self):\n",
        "        super(Net, self).__init__()\n",
        "        self.fc1=nn.Conv1d(in_channels=40, out_channels=6, kernel_size=10)\n",
        "        self.fc2=nn.Conv1d(in_channels=6, out_channels=8, kernel_size=3)\n",
        "        self.fc3=nn.Conv1d(in_channels=8, out_channels=10, kernel_size=1)\n",
        "        self.fc4=nn.Conv1d(in_channels=10, out_channels=40, kernel_size=1)\n",
        "        self.lstm = nn.LSTM(input_size=40, hidden_size=200, num_layers=1, batch_first=True, bidirectional=True)\n",
        "        #3 capas totalmente conectadas\n",
        "        self.fc5=nn.Linear(400, 40)\n",
        "        self.fc6=nn.Linear(40, 20)\n",
        "        self.fc7=nn.Linear(20, 1)\n",
        "\n",
        "    def forward(self, x):\n",
        "        #print (\"DIMENIONES:\")\n",
        "        #print(\"Entrada: \", x.shape)\n",
        "        #a la 1º capa le aplicamos la funcion relu y hacemos un max pooling de 5 y un dropout de 0.5\n",
        "        x= F.max_pool1d(F.relu(self.fc1(x)), 5)\n",
        "        x= F.dropout(x, 0.5)\n",
        "        #print(\"conv1: \", x.shape)\n",
        "        #a la 2º capa le aplicamos la funcion relu y hacemos un max pooling de 2 y un dropout de 0.5\n",
        "        x= F.max_pool1d(F.relu(self.fc2(x)), 2)\n",
        "        x= F.dropout(x, 0.5)\n",
        "        #print(\"conv2: \", x.shape)\n",
        "        #a la 3º capa le aplicamos la funcion relu y hacemos un average pooling de 2 y un dropout de 0.5\n",
        "        x= F.max_pool1d(F.relu(self.fc3(x)), 2)\n",
        "        x= F.dropout(x, 0.5)\n",
        "        #print(\"conv3: \", x.shape)\n",
        "        x= F.avg_pool1d(F.relu(self.fc4(x)),2)\n",
        "        x= F.dropout(x, 0.5)\n",
        "        #print(\"conv4: \", x.shape)\n",
        "        # Pasar a través de la capa LSTM\n",
        "        x, _ = self.lstm(x.unsqueeze(0))  # Añadir dimensión de la secuencia\n",
        "        #print(\"LSTM: \", x.shape)\n",
        "        #aplicamos la funcion relu a la 4º capa y un dropout de 0.5\n",
        "        #x = x.view(x.shape[0], -1)\n",
        "        #print(\"pre fc: \", x.shape)\n",
        "        x= F.sigmoid(self.fc5(x))\n",
        "        x= F.dropout(x, 0.5)\n",
        "        #aplicamos la funcion relu a la 5º capa y un dropout de 0.5\n",
        "        x= F.relu(self.fc6(x))\n",
        "        x= F.dropout(x, 0.5)\n",
        "        #la salida es la salida linear de la capa\n",
        "        x=self.fc7(x)\n",
        "        #print(\"Salida: \", x.shape)\n",
        "        return(x)\n"
      ]
    },
    {
      "cell_type": "code",
      "execution_count": null,
      "metadata": {
        "id": "0xjsOuN2OWCT"
      },
      "outputs": [],
      "source": [
        "\n",
        "device = 'cpu'\n",
        "modeloLSTMbidireccional =Net().to(device=device)"
      ]
    },
    {
      "cell_type": "markdown",
      "metadata": {
        "id": "92WIdYCOOg-e"
      },
      "source": [
        "##Optimizador y criterio de perdida"
      ]
    },
    {
      "cell_type": "code",
      "execution_count": null,
      "metadata": {
        "id": "bsefE2QeOg-g"
      },
      "outputs": [],
      "source": [
        "\n",
        "from torch import optim\n",
        "from torch import nn\n",
        "criterion = torch.nn.BCELoss() #cambiar a rmspropo\n",
        "#optimizer = optim.SGD(model.parameters(), lr=0.001,momentum=0.9)\n",
        "optimizer = optim.RMSprop(modeloLSTMbidireccional.parameters(), lr=0.001)"
      ]
    },
    {
      "cell_type": "markdown",
      "metadata": {
        "id": "fHinFl8NOg-i"
      },
      "source": [
        "##Bucle de entrenamiento"
      ]
    },
    {
      "cell_type": "code",
      "execution_count": null,
      "metadata": {
        "colab": {
          "base_uri": "https://localhost:8080/",
          "height": 362
        },
        "collapsed": true,
        "id": "YGMyGFaDOg-k",
        "outputId": "ea5b3240-25f3-4b6d-b9fe-527da209d7fa"
      },
      "outputs": [
        {
          "ename": "RuntimeError",
          "evalue": "input.size(-1) must be equal to input_size. Expected 40, got 2",
          "output_type": "error",
          "traceback": [
            "\u001b[0;31m---------------------------------------------------------------------------\u001b[0m",
            "\u001b[0;31mRuntimeError\u001b[0m                              Traceback (most recent call last)",
            "\u001b[0;32m<ipython-input-58-0e0a30c0f30b>\u001b[0m in \u001b[0;36m<cell line: 6>\u001b[0;34m()\u001b[0m\n\u001b[1;32m     20\u001b[0m     \u001b[0moptimizer\u001b[0m\u001b[0;34m.\u001b[0m\u001b[0mzero_grad\u001b[0m\u001b[0;34m(\u001b[0m\u001b[0;34m)\u001b[0m\u001b[0;34m\u001b[0m\u001b[0;34m\u001b[0m\u001b[0m\n\u001b[1;32m     21\u001b[0m \u001b[0;34m\u001b[0m\u001b[0m\n\u001b[0;32m---> 22\u001b[0;31m     \u001b[0moutputs\u001b[0m \u001b[0;34m=\u001b[0m \u001b[0mmodeloLSTMbidireccional\u001b[0m\u001b[0;34m(\u001b[0m\u001b[0minputs\u001b[0m\u001b[0;34m.\u001b[0m\u001b[0mfloat\u001b[0m\u001b[0;34m(\u001b[0m\u001b[0;34m)\u001b[0m\u001b[0;34m)\u001b[0m\u001b[0;34m\u001b[0m\u001b[0;34m\u001b[0m\u001b[0m\n\u001b[0m\u001b[1;32m     23\u001b[0m     \u001b[0moutputs\u001b[0m \u001b[0;34m=\u001b[0m \u001b[0mtorch\u001b[0m\u001b[0;34m.\u001b[0m\u001b[0msigmoid\u001b[0m\u001b[0;34m(\u001b[0m\u001b[0moutputs\u001b[0m\u001b[0;34m)\u001b[0m\u001b[0;34m\u001b[0m\u001b[0;34m\u001b[0m\u001b[0m\n\u001b[1;32m     24\u001b[0m     \u001b[0moutputs\u001b[0m\u001b[0;34m=\u001b[0m\u001b[0moutputs\u001b[0m\u001b[0;34m.\u001b[0m\u001b[0msqueeze\u001b[0m\u001b[0;34m(\u001b[0m\u001b[0;34m)\u001b[0m\u001b[0;34m\u001b[0m\u001b[0;34m\u001b[0m\u001b[0m\n",
            "\u001b[0;32m/usr/local/lib/python3.10/dist-packages/torch/nn/modules/module.py\u001b[0m in \u001b[0;36m_wrapped_call_impl\u001b[0;34m(self, *args, **kwargs)\u001b[0m\n\u001b[1;32m   1530\u001b[0m             \u001b[0;32mreturn\u001b[0m \u001b[0mself\u001b[0m\u001b[0;34m.\u001b[0m\u001b[0m_compiled_call_impl\u001b[0m\u001b[0;34m(\u001b[0m\u001b[0;34m*\u001b[0m\u001b[0margs\u001b[0m\u001b[0;34m,\u001b[0m \u001b[0;34m**\u001b[0m\u001b[0mkwargs\u001b[0m\u001b[0;34m)\u001b[0m  \u001b[0;31m# type: ignore[misc]\u001b[0m\u001b[0;34m\u001b[0m\u001b[0;34m\u001b[0m\u001b[0m\n\u001b[1;32m   1531\u001b[0m         \u001b[0;32melse\u001b[0m\u001b[0;34m:\u001b[0m\u001b[0;34m\u001b[0m\u001b[0;34m\u001b[0m\u001b[0m\n\u001b[0;32m-> 1532\u001b[0;31m             \u001b[0;32mreturn\u001b[0m \u001b[0mself\u001b[0m\u001b[0;34m.\u001b[0m\u001b[0m_call_impl\u001b[0m\u001b[0;34m(\u001b[0m\u001b[0;34m*\u001b[0m\u001b[0margs\u001b[0m\u001b[0;34m,\u001b[0m \u001b[0;34m**\u001b[0m\u001b[0mkwargs\u001b[0m\u001b[0;34m)\u001b[0m\u001b[0;34m\u001b[0m\u001b[0;34m\u001b[0m\u001b[0m\n\u001b[0m\u001b[1;32m   1533\u001b[0m \u001b[0;34m\u001b[0m\u001b[0m\n\u001b[1;32m   1534\u001b[0m     \u001b[0;32mdef\u001b[0m \u001b[0m_call_impl\u001b[0m\u001b[0;34m(\u001b[0m\u001b[0mself\u001b[0m\u001b[0;34m,\u001b[0m \u001b[0;34m*\u001b[0m\u001b[0margs\u001b[0m\u001b[0;34m,\u001b[0m \u001b[0;34m**\u001b[0m\u001b[0mkwargs\u001b[0m\u001b[0;34m)\u001b[0m\u001b[0;34m:\u001b[0m\u001b[0;34m\u001b[0m\u001b[0;34m\u001b[0m\u001b[0m\n",
            "\u001b[0;32m/usr/local/lib/python3.10/dist-packages/torch/nn/modules/module.py\u001b[0m in \u001b[0;36m_call_impl\u001b[0;34m(self, *args, **kwargs)\u001b[0m\n\u001b[1;32m   1539\u001b[0m                 \u001b[0;32mor\u001b[0m \u001b[0m_global_backward_pre_hooks\u001b[0m \u001b[0;32mor\u001b[0m \u001b[0m_global_backward_hooks\u001b[0m\u001b[0;34m\u001b[0m\u001b[0;34m\u001b[0m\u001b[0m\n\u001b[1;32m   1540\u001b[0m                 or _global_forward_hooks or _global_forward_pre_hooks):\n\u001b[0;32m-> 1541\u001b[0;31m             \u001b[0;32mreturn\u001b[0m \u001b[0mforward_call\u001b[0m\u001b[0;34m(\u001b[0m\u001b[0;34m*\u001b[0m\u001b[0margs\u001b[0m\u001b[0;34m,\u001b[0m \u001b[0;34m**\u001b[0m\u001b[0mkwargs\u001b[0m\u001b[0;34m)\u001b[0m\u001b[0;34m\u001b[0m\u001b[0;34m\u001b[0m\u001b[0m\n\u001b[0m\u001b[1;32m   1542\u001b[0m \u001b[0;34m\u001b[0m\u001b[0m\n\u001b[1;32m   1543\u001b[0m         \u001b[0;32mtry\u001b[0m\u001b[0;34m:\u001b[0m\u001b[0;34m\u001b[0m\u001b[0;34m\u001b[0m\u001b[0m\n",
            "\u001b[0;32m<ipython-input-55-31acc8576c15>\u001b[0m in \u001b[0;36mforward\u001b[0;34m(self, x)\u001b[0m\n\u001b[1;32m     32\u001b[0m         \u001b[0;31m#print(\"conv4: \", x.shape)\u001b[0m\u001b[0;34m\u001b[0m\u001b[0;34m\u001b[0m\u001b[0m\n\u001b[1;32m     33\u001b[0m         \u001b[0;31m# Pasar a través de la capa LSTM\u001b[0m\u001b[0;34m\u001b[0m\u001b[0;34m\u001b[0m\u001b[0m\n\u001b[0;32m---> 34\u001b[0;31m         \u001b[0mx\u001b[0m\u001b[0;34m,\u001b[0m \u001b[0m_\u001b[0m \u001b[0;34m=\u001b[0m \u001b[0mself\u001b[0m\u001b[0;34m.\u001b[0m\u001b[0mlstm\u001b[0m\u001b[0;34m(\u001b[0m\u001b[0mx\u001b[0m\u001b[0;34m.\u001b[0m\u001b[0munsqueeze\u001b[0m\u001b[0;34m(\u001b[0m\u001b[0;36m0\u001b[0m\u001b[0;34m)\u001b[0m\u001b[0;34m)\u001b[0m  \u001b[0;31m# Añadir dimensión de la secuencia\u001b[0m\u001b[0;34m\u001b[0m\u001b[0;34m\u001b[0m\u001b[0m\n\u001b[0m\u001b[1;32m     35\u001b[0m         \u001b[0;31m#print(\"LSTM: \", x.shape)\u001b[0m\u001b[0;34m\u001b[0m\u001b[0;34m\u001b[0m\u001b[0m\n\u001b[1;32m     36\u001b[0m         \u001b[0;31m#aplicamos la funcion relu a la 4º capa y un dropout de 0.5\u001b[0m\u001b[0;34m\u001b[0m\u001b[0;34m\u001b[0m\u001b[0m\n",
            "\u001b[0;32m/usr/local/lib/python3.10/dist-packages/torch/nn/modules/module.py\u001b[0m in \u001b[0;36m_wrapped_call_impl\u001b[0;34m(self, *args, **kwargs)\u001b[0m\n\u001b[1;32m   1530\u001b[0m             \u001b[0;32mreturn\u001b[0m \u001b[0mself\u001b[0m\u001b[0;34m.\u001b[0m\u001b[0m_compiled_call_impl\u001b[0m\u001b[0;34m(\u001b[0m\u001b[0;34m*\u001b[0m\u001b[0margs\u001b[0m\u001b[0;34m,\u001b[0m \u001b[0;34m**\u001b[0m\u001b[0mkwargs\u001b[0m\u001b[0;34m)\u001b[0m  \u001b[0;31m# type: ignore[misc]\u001b[0m\u001b[0;34m\u001b[0m\u001b[0;34m\u001b[0m\u001b[0m\n\u001b[1;32m   1531\u001b[0m         \u001b[0;32melse\u001b[0m\u001b[0;34m:\u001b[0m\u001b[0;34m\u001b[0m\u001b[0;34m\u001b[0m\u001b[0m\n\u001b[0;32m-> 1532\u001b[0;31m             \u001b[0;32mreturn\u001b[0m \u001b[0mself\u001b[0m\u001b[0;34m.\u001b[0m\u001b[0m_call_impl\u001b[0m\u001b[0;34m(\u001b[0m\u001b[0;34m*\u001b[0m\u001b[0margs\u001b[0m\u001b[0;34m,\u001b[0m \u001b[0;34m**\u001b[0m\u001b[0mkwargs\u001b[0m\u001b[0;34m)\u001b[0m\u001b[0;34m\u001b[0m\u001b[0;34m\u001b[0m\u001b[0m\n\u001b[0m\u001b[1;32m   1533\u001b[0m \u001b[0;34m\u001b[0m\u001b[0m\n\u001b[1;32m   1534\u001b[0m     \u001b[0;32mdef\u001b[0m \u001b[0m_call_impl\u001b[0m\u001b[0;34m(\u001b[0m\u001b[0mself\u001b[0m\u001b[0;34m,\u001b[0m \u001b[0;34m*\u001b[0m\u001b[0margs\u001b[0m\u001b[0;34m,\u001b[0m \u001b[0;34m**\u001b[0m\u001b[0mkwargs\u001b[0m\u001b[0;34m)\u001b[0m\u001b[0;34m:\u001b[0m\u001b[0;34m\u001b[0m\u001b[0;34m\u001b[0m\u001b[0m\n",
            "\u001b[0;32m/usr/local/lib/python3.10/dist-packages/torch/nn/modules/module.py\u001b[0m in \u001b[0;36m_call_impl\u001b[0;34m(self, *args, **kwargs)\u001b[0m\n\u001b[1;32m   1539\u001b[0m                 \u001b[0;32mor\u001b[0m \u001b[0m_global_backward_pre_hooks\u001b[0m \u001b[0;32mor\u001b[0m \u001b[0m_global_backward_hooks\u001b[0m\u001b[0;34m\u001b[0m\u001b[0;34m\u001b[0m\u001b[0m\n\u001b[1;32m   1540\u001b[0m                 or _global_forward_hooks or _global_forward_pre_hooks):\n\u001b[0;32m-> 1541\u001b[0;31m             \u001b[0;32mreturn\u001b[0m \u001b[0mforward_call\u001b[0m\u001b[0;34m(\u001b[0m\u001b[0;34m*\u001b[0m\u001b[0margs\u001b[0m\u001b[0;34m,\u001b[0m \u001b[0;34m**\u001b[0m\u001b[0mkwargs\u001b[0m\u001b[0;34m)\u001b[0m\u001b[0;34m\u001b[0m\u001b[0;34m\u001b[0m\u001b[0m\n\u001b[0m\u001b[1;32m   1542\u001b[0m \u001b[0;34m\u001b[0m\u001b[0m\n\u001b[1;32m   1543\u001b[0m         \u001b[0;32mtry\u001b[0m\u001b[0;34m:\u001b[0m\u001b[0;34m\u001b[0m\u001b[0;34m\u001b[0m\u001b[0m\n",
            "\u001b[0;32m/usr/local/lib/python3.10/dist-packages/torch/nn/modules/rnn.py\u001b[0m in \u001b[0;36mforward\u001b[0;34m(self, input, hx)\u001b[0m\n\u001b[1;32m    890\u001b[0m                                       dtype=input.dtype, device=input.device)\n\u001b[1;32m    891\u001b[0m                 \u001b[0mhx\u001b[0m \u001b[0;34m=\u001b[0m \u001b[0;34m(\u001b[0m\u001b[0mh_zeros\u001b[0m\u001b[0;34m,\u001b[0m \u001b[0mc_zeros\u001b[0m\u001b[0;34m)\u001b[0m\u001b[0;34m\u001b[0m\u001b[0;34m\u001b[0m\u001b[0m\n\u001b[0;32m--> 892\u001b[0;31m                 \u001b[0mself\u001b[0m\u001b[0;34m.\u001b[0m\u001b[0mcheck_forward_args\u001b[0m\u001b[0;34m(\u001b[0m\u001b[0minput\u001b[0m\u001b[0;34m,\u001b[0m \u001b[0mhx\u001b[0m\u001b[0;34m,\u001b[0m \u001b[0mbatch_sizes\u001b[0m\u001b[0;34m)\u001b[0m\u001b[0;34m\u001b[0m\u001b[0;34m\u001b[0m\u001b[0m\n\u001b[0m\u001b[1;32m    893\u001b[0m             \u001b[0;32melse\u001b[0m\u001b[0;34m:\u001b[0m\u001b[0;34m\u001b[0m\u001b[0;34m\u001b[0m\u001b[0m\n\u001b[1;32m    894\u001b[0m                 \u001b[0;32mif\u001b[0m \u001b[0mis_batched\u001b[0m\u001b[0;34m:\u001b[0m\u001b[0;34m\u001b[0m\u001b[0;34m\u001b[0m\u001b[0m\n",
            "\u001b[0;32m/usr/local/lib/python3.10/dist-packages/torch/nn/modules/rnn.py\u001b[0m in \u001b[0;36mcheck_forward_args\u001b[0;34m(self, input, hidden, batch_sizes)\u001b[0m\n\u001b[1;32m    819\u001b[0m                            \u001b[0mbatch_sizes\u001b[0m\u001b[0;34m:\u001b[0m \u001b[0mOptional\u001b[0m\u001b[0;34m[\u001b[0m\u001b[0mTensor\u001b[0m\u001b[0;34m]\u001b[0m\u001b[0;34m,\u001b[0m\u001b[0;34m\u001b[0m\u001b[0;34m\u001b[0m\u001b[0m\n\u001b[1;32m    820\u001b[0m                            ):\n\u001b[0;32m--> 821\u001b[0;31m         \u001b[0mself\u001b[0m\u001b[0;34m.\u001b[0m\u001b[0mcheck_input\u001b[0m\u001b[0;34m(\u001b[0m\u001b[0minput\u001b[0m\u001b[0;34m,\u001b[0m \u001b[0mbatch_sizes\u001b[0m\u001b[0;34m)\u001b[0m\u001b[0;34m\u001b[0m\u001b[0;34m\u001b[0m\u001b[0m\n\u001b[0m\u001b[1;32m    822\u001b[0m         self.check_hidden_size(hidden[0], self.get_expected_hidden_size(input, batch_sizes),\n\u001b[1;32m    823\u001b[0m                                'Expected hidden[0] size {}, got {}')\n",
            "\u001b[0;32m/usr/local/lib/python3.10/dist-packages/torch/nn/modules/rnn.py\u001b[0m in \u001b[0;36mcheck_input\u001b[0;34m(self, input, batch_sizes)\u001b[0m\n\u001b[1;32m    238\u001b[0m                 f'input must have {expected_input_dim} dimensions, got {input.dim()}')\n\u001b[1;32m    239\u001b[0m         \u001b[0;32mif\u001b[0m \u001b[0mself\u001b[0m\u001b[0;34m.\u001b[0m\u001b[0minput_size\u001b[0m \u001b[0;34m!=\u001b[0m \u001b[0minput\u001b[0m\u001b[0;34m.\u001b[0m\u001b[0msize\u001b[0m\u001b[0;34m(\u001b[0m\u001b[0;34m-\u001b[0m\u001b[0;36m1\u001b[0m\u001b[0;34m)\u001b[0m\u001b[0;34m:\u001b[0m\u001b[0;34m\u001b[0m\u001b[0;34m\u001b[0m\u001b[0m\n\u001b[0;32m--> 240\u001b[0;31m             raise RuntimeError(\n\u001b[0m\u001b[1;32m    241\u001b[0m                 f'input.size(-1) must be equal to input_size. Expected {self.input_size}, got {input.size(-1)}')\n\u001b[1;32m    242\u001b[0m \u001b[0;34m\u001b[0m\u001b[0m\n",
            "\u001b[0;31mRuntimeError\u001b[0m: input.size(-1) must be equal to input_size. Expected 40, got 2"
          ]
        }
      ],
      "source": [
        "N_EPOCHS = 10\n",
        "train_losses = []\n",
        "train_accuracies = []\n",
        "val_losses = []\n",
        "val_accuracies = []\n",
        "for epoch in range(N_EPOCHS):\n",
        "\n",
        "\n",
        "  train_loss = 0.0\n",
        "  train_correct = 0\n",
        "  val_correct = 0\n",
        "  train_total = 0\n",
        "  val_total=0\n",
        "  val_loss=0.0\n",
        "  modeloLSTMbidireccional.train()#indicamos que esta entrenando y que puede modificar pesor\n",
        "  for inputs, labels in trainloader:\n",
        "    inputs = inputs.to(device)\n",
        "    labels = labels.to(device)\n",
        "\n",
        "    optimizer.zero_grad()\n",
        "\n",
        "    outputs = modeloLSTMbidireccional(inputs.float())\n",
        "    outputs = torch.sigmoid(outputs)\n",
        "    outputs=outputs.squeeze()\n",
        "    loss = criterion(outputs, labels)\n",
        "    loss.backward()\n",
        "    optimizer.step()\n",
        "\n",
        "    train_loss += loss.item()\n",
        "\n",
        "    # Calcular el accuracy\n",
        "    predicted = torch.round(outputs)\n",
        "    train_total += labels.size(0)\n",
        "    train_correct += (predicted == labels).sum().item()\n",
        "\n",
        "  '''\n",
        "  #validacion\n",
        "  val_loss=0.0\n",
        "  modeloLSTM.eval()#indicamos que no puede modificar los pesos\n",
        "  for inputs, labels in valloader:\n",
        "    inputs = inputs.to(device)\n",
        "    labels = labels.to(device)\n",
        "\n",
        "    outputsval = modeloLSTM(inputs.float())\n",
        "    outputsval = torch.sigmoid(outputsval)\n",
        "    outputsval=outputsval.squeeze()\n",
        "    loss = criterion(outputsval, labels)\n",
        "\n",
        "    val_loss += loss.item()\n",
        "\n",
        "    #calculo de accuracy\n",
        "    val_predicted = torch.round(outputsval)  # Convertir las salidas a 0 o 1\n",
        "    val_total += labels.size(0)\n",
        "    val_correct += (val_predicted == labels).sum().item()\n",
        "  '''\n",
        "\n",
        "  train_accuracy = train_correct / train_total\n",
        "  #val_accuracy = val_correct / val_total\n",
        "  train_losses.append(train_loss/len(trainloader))\n",
        "  train_accuracies.append(train_accuracy)\n",
        "  #val_losses.append(val_loss/len(valloader))\n",
        "  #val_accuracies.append(val_accuracy)\n",
        "  print(\"\\n Epoch: {} Train Acc: {:.4f}\".format(epoch, train_accuracy))\n",
        "  print(\"Epoch: {} Train Loss: {:.4f}\".format(epoch, train_loss / len(trainloader)))\n",
        "  #print(\"Epoch: {} Val Acc: {:.4f}\".format(epoch, val_accuracy))\n",
        "  #print(\"Epoch: {} Val Loss: {:.4f}\".format(epoch, val_loss / len(valloader)))\n"
      ]
    },
    {
      "cell_type": "markdown",
      "metadata": {
        "id": "kKNFAPUdPdPU"
      },
      "source": [
        "##Calculo de la media de los accouracy de los diferentes sujetos"
      ]
    },
    {
      "cell_type": "code",
      "execution_count": null,
      "metadata": {
        "colab": {
          "base_uri": "https://localhost:8080/"
        },
        "id": "58kPCs1-PdPa",
        "outputId": "c6623def-ee00-4aa2-ff9e-33c15a4dfcc2"
      },
      "outputs": [
        {
          "name": "stdout",
          "output_type": "stream",
          "text": [
            "La media de los resultados es: 0.9355615384615384\n"
          ]
        }
      ],
      "source": [
        "# Resultados de leave one subject out -cross validation\n",
        "resultados = [0.9335, 0.9259, 0.9288, 0.9231, 0.9446]\n",
        "\n",
        "# Calcular la media de los resultados\n",
        "media_resultados = sum(resultados) / len(resultados)\n",
        "\n",
        "print(\"La media de los resultados es:\", media_resultados)"
      ]
    },
    {
      "cell_type": "markdown",
      "metadata": {
        "id": "4H26WnsDPdPf"
      },
      "source": [
        "##Almacenamiento de los datos del modelo"
      ]
    },
    {
      "cell_type": "code",
      "execution_count": null,
      "metadata": {
        "id": "_umkys_iPdPh"
      },
      "outputs": [],
      "source": [
        "ruta = \"/content/drive/MyDrive/TFG/modelo_entrenadoLSTMbidireccional.pth\"\n",
        "torch.save(modeloLSTMbidireccional.state_dict(), ruta)"
      ]
    },
    {
      "cell_type": "markdown",
      "metadata": {
        "id": "2xxV_k_OPdPj"
      },
      "source": [
        "##Carga del modelo previamente entrenado"
      ]
    },
    {
      "cell_type": "code",
      "execution_count": null,
      "metadata": {
        "id": "1-35a3arPdPl"
      },
      "outputs": [],
      "source": [
        "# Cargar el estado del modelo desde la ruta especificada\n",
        "#ruta_archivo = '/content/drive/MyDrive/TFG/modelo_entrenadoLSTM.pth'\n",
        "#modeloLSTM.load_state_dict(torch.load(ruta_archivo))"
      ]
    }
  ],
  "metadata": {
    "accelerator": "GPU",
    "colab": {
      "gpuType": "T4",
      "provenance": []
    },
    "kernelspec": {
      "display_name": "Python 3",
      "name": "python3"
    },
    "language_info": {
      "name": "python"
    }
  },
  "nbformat": 4,
  "nbformat_minor": 0
}